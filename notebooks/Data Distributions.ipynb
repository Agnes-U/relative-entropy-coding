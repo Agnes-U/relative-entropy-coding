{
 "cells": [
  {
   "cell_type": "code",
   "execution_count": 31,
   "metadata": {},
   "outputs": [],
   "source": [
    "from rec.models.mnist_vae import MNISTVAE, MNISTVampVAE\n",
    "\n",
    "import os\n",
    "\n",
    "import tensorflow as tf\n",
    "tfl = tf.keras.layers\n",
    "\n",
    "import tensorflow_probability as tfp\n",
    "tfd = tfp.distributions\n",
    "\n",
    "import tensorflow_datasets as tfds\n",
    "\n",
    "import numpy as np\n",
    "import matplotlib.pyplot as plt\n",
    "\n",
    "from tqdm.notebook import tqdm, trange\n",
    "\n",
    "data_save_dir = \"../experimental_data/data_distributions/\""
   ]
  },
  {
   "cell_type": "code",
   "execution_count": 2,
   "metadata": {},
   "outputs": [],
   "source": [
    "# Taken from https://github.com/tensorflow/tensorflow/issues/31135#issuecomment-516526113\n",
    "# Set CPU as available physical device\n",
    "tf.config.experimental.set_visible_devices([], 'GPU')"
   ]
  },
  {
   "cell_type": "markdown",
   "metadata": {},
   "source": [
    "# MNIST Experiments"
   ]
  },
  {
   "cell_type": "code",
   "execution_count": 13,
   "metadata": {},
   "outputs": [],
   "source": [
    "mnist_gauss_save_dir = \"../../../models/relative-entropy-coding/empirical-bayes-experiments/mnist/gaussian\""
   ]
  },
  {
   "cell_type": "code",
   "execution_count": 6,
   "metadata": {},
   "outputs": [],
   "source": [
    "# Standard Gaussian VAE\n",
    "mnist_gauss_vae = MNISTVAE(name=\"gaussian_mnist_vae\", \n",
    "                           prior=tfd.Normal(loc=tf.zeros(50), scale=tf.ones(50)))"
   ]
  },
  {
   "cell_type": "code",
   "execution_count": 14,
   "metadata": {},
   "outputs": [
    {
     "name": "stdout",
     "output_type": "stream",
     "text": [
      "Restored ../../../models/relative-entropy-coding/empirical-bayes-experiments/mnist/gaussian/ckpt-287\n"
     ]
    }
   ],
   "source": [
    "ckpt = tf.train.Checkpoint(model=mnist_gauss_vae)\n",
    "    \n",
    "if not os.path.exists(mnist_gauss_save_dir):\n",
    "    print(f\"{mnist_gauss_save_dir} has not been trained yet!\")\n",
    "\n",
    "manager = tf.train.CheckpointManager(ckpt, mnist_gauss_save_dir, max_to_keep=3)\n",
    "\n",
    "mnist_gauss_vae(tf.zeros([1, 28, 28, 1]))\n",
    "ckpt.restore(manager.latest_checkpoint)\n",
    "\n",
    "if manager.latest_checkpoint:\n",
    "    print(f\"Restored {manager.latest_checkpoint}\")"
   ]
  },
  {
   "cell_type": "markdown",
   "metadata": {},
   "source": [
    "## Load MNIST and pass it through every model"
   ]
  },
  {
   "cell_type": "code",
   "execution_count": 22,
   "metadata": {},
   "outputs": [],
   "source": [
    "dataset = tfds.load(\"binarized_mnist\",\n",
    "                    data_dir=\"/scratch/gf332/datasets/binarized_mnist\",\n",
    "                   with_info=True,)"
   ]
  },
  {
   "cell_type": "code",
   "execution_count": 37,
   "metadata": {},
   "outputs": [
    {
     "name": "stdout",
     "output_type": "stream",
     "text": [
      "Saving train set!\n"
     ]
    },
    {
     "data": {
      "application/vnd.jupyter.widget-view+json": {
       "model_id": "20fca7d4502a4336ba1a422e13483ee5",
       "version_major": 2,
       "version_minor": 0
      },
      "text/plain": [
       "HBox(children=(FloatProgress(value=0.0, max=50000.0), HTML(value='')))"
      ]
     },
     "metadata": {},
     "output_type": "display_data"
    },
    {
     "name": "stdout",
     "output_type": "stream",
     "text": [
      "\n",
      "Saving test set!\n"
     ]
    },
    {
     "data": {
      "application/vnd.jupyter.widget-view+json": {
       "model_id": "d7dddebf4cae403abeacd11c48be11ff",
       "version_major": 2,
       "version_minor": 0
      },
      "text/plain": [
       "HBox(children=(FloatProgress(value=0.0, max=10000.0), HTML(value='')))"
      ]
     },
     "metadata": {},
     "output_type": "display_data"
    },
    {
     "name": "stdout",
     "output_type": "stream",
     "text": [
      "\n"
     ]
    }
   ],
   "source": [
    "beta = 1\n",
    "latent_size = 50\n",
    "\n",
    "model = mnist_gauss_vae\n",
    "\n",
    "for ds_folder in [\"train\", \"test\"]:\n",
    "    \n",
    "    print(f\"Saving {ds_folder} set!\")\n",
    "    \n",
    "    ds = dataset[0][ds_folder]\n",
    "    ds = ds.map(lambda x: tf.cast(x[\"image\"], tf.float32))\n",
    "    \n",
    "    for i, img in tqdm(enumerate(ds), total=dataset[1].splits[ds_folder].num_examples):\n",
    "        \n",
    "        save_dir = f\"{data_save_dir}/mnist/beta_{beta}_latents_{latent_size}/{ds_folder}/img_{i}\"\n",
    "        \n",
    "        if not os.path.exists(save_dir):\n",
    "            os.makedirs(save_dir)\n",
    "        \n",
    "        reconstruction = model(img[None, ...], training=True)[0,...,0]\n",
    "\n",
    "        samples = model.posterior.sample()\n",
    "\n",
    "        np.save(f\"{save_dir}/post_loc.npy\", model.posterior.loc.numpy())\n",
    "        np.save(f\"{save_dir}/post_scale.npy\", model.posterior.scale.numpy())\n",
    "\n",
    "        np.save(f\"{save_dir}/prior_loc.npy\", model.prior.loc.numpy())\n",
    "        np.save(f\"{save_dir}/prior_scale.npy\", model.prior.scale.numpy())\n",
    "\n",
    "        prior_prob = model.prior.log_prob(samples)\n",
    "        prior_prob = tf.reduce_sum(prior_prob, axis=1)"
   ]
  },
  {
   "cell_type": "code",
   "execution_count": 28,
   "metadata": {},
   "outputs": [
    {
     "data": {
      "text/plain": [
       "10000"
      ]
     },
     "execution_count": 28,
     "metadata": {},
     "output_type": "execute_result"
    }
   ],
   "source": []
  }
 ],
 "metadata": {
  "kernelspec": {
   "display_name": "Python 3",
   "language": "python",
   "name": "python3"
  },
  "language_info": {
   "codemirror_mode": {
    "name": "ipython",
    "version": 3
   },
   "file_extension": ".py",
   "mimetype": "text/x-python",
   "name": "python",
   "nbconvert_exporter": "python",
   "pygments_lexer": "ipython3",
   "version": "3.7.6"
  }
 },
 "nbformat": 4,
 "nbformat_minor": 4
}
