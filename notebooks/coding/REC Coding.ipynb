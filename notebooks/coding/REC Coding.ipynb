{
 "cells": [
  {
   "cell_type": "code",
   "execution_count": 26,
   "metadata": {},
   "outputs": [],
   "source": [
    "import tensorflow as tf\n",
    "import tensorflow_probability as tfp\n",
    "tfd = tfp.distributions\n",
    "\n",
    "import matplotlib.pyplot as plt\n",
    "\n",
    "from tqdm import tqdm, trange\n",
    "\n",
    "tf.config.experimental.set_visible_devices([], 'GPU')"
   ]
  },
  {
   "cell_type": "code",
   "execution_count": null,
   "metadata": {},
   "outputs": [],
   "source": [
    "# Taken from https://github.com/tensorflow/tensorflow/issues/31135#issuecomment-516526113\n",
    "# Set CPU as available physical device\n",
    "tf.config.experimental.set_visible_devices([], 'GPU')"
   ]
  },
  {
   "cell_type": "markdown",
   "metadata": {},
   "source": [
    "# Importance Sampling Encoder and Decoder"
   ]
  },
  {
   "cell_type": "code",
   "execution_count": 70,
   "metadata": {},
   "outputs": [],
   "source": [
    "def importance_encode(target, proposal, kl):\n",
    "    \n",
    "    # Get the number of samples that need to be drawn\n",
    "    num_samples = tf.math.floor(tf.math.exp(kl + 1))\n",
    "    \n",
    "    max_index = 0.\n",
    "    max_weight = float('-inf')\n",
    "    \n",
    "    for i in tf.range(num_samples):\n",
    "        \n",
    "        sample = proposal.sample()\n",
    "        weight = tf.reduce_sum(target.log_prob(sample) - proposal.log_prob(sample))\n",
    "        \n",
    "        if weight > max_weight:\n",
    "            max_weight = weight\n",
    "            max_index = i\n",
    "            \n",
    "    return max_weight, max_index"
   ]
  },
  {
   "cell_type": "code",
   "execution_count": 71,
   "metadata": {},
   "outputs": [
    {
     "name": "stdout",
     "output_type": "stream",
     "text": [
      "KL between target and proposal: 2.4963\n"
     ]
    }
   ],
   "source": [
    "target = tfd.Normal(loc=2., scale=0.4)\n",
    "proposal = tfd.Normal(loc=0., scale=1.)\n",
    "\n",
    "kl = tfd.kl_divergence(target, proposal)\n",
    "print(f\"KL between target and proposal: {kl:.4f}\")"
   ]
  },
  {
   "cell_type": "code",
   "execution_count": 72,
   "metadata": {},
   "outputs": [
    {
     "data": {
      "text/plain": [
       "(<tf.Tensor: id=1187705, shape=(), dtype=float32, numpy=3.1956491>,\n",
       " <tf.Tensor: id=1187661, shape=(), dtype=float32, numpy=10.0>)"
      ]
     },
     "execution_count": 72,
     "metadata": {},
     "output_type": "execute_result"
    }
   ],
   "source": [
    "importance_encode(target=target,\n",
    "                  proposal=proposal,\n",
    "                  kl=tfd.kl_divergence(target, proposal))"
   ]
  },
  {
   "cell_type": "code",
   "execution_count": 73,
   "metadata": {},
   "outputs": [
    {
     "name": "stderr",
     "output_type": "stream",
     "text": [
      "\n",
      "  0%|          | 0/100 [00:00<?, ?it/s]\u001b[A\n",
      "  2%|▏         | 2/100 [00:00<00:05, 17.23it/s]\u001b[A\n",
      "  4%|▍         | 4/100 [00:00<00:05, 17.75it/s]\u001b[A\n",
      "  6%|▌         | 6/100 [00:00<00:05, 17.82it/s]\u001b[A\n",
      "  8%|▊         | 8/100 [00:00<00:05, 17.64it/s]\u001b[A\n",
      " 10%|█         | 10/100 [00:00<00:05, 15.65it/s]\u001b[A\n",
      " 12%|█▏        | 12/100 [00:00<00:05, 15.99it/s]\u001b[A\n",
      " 14%|█▍        | 14/100 [00:00<00:05, 16.79it/s]\u001b[A\n",
      " 16%|█▌        | 16/100 [00:00<00:04, 17.23it/s]\u001b[A\n",
      " 18%|█▊        | 18/100 [00:01<00:04, 17.84it/s]\u001b[A\n",
      " 20%|██        | 20/100 [00:01<00:04, 16.05it/s]\u001b[A\n",
      " 22%|██▏       | 22/100 [00:01<00:04, 16.17it/s]\u001b[A\n",
      " 24%|██▍       | 24/100 [00:01<00:04, 16.89it/s]\u001b[A\n",
      " 26%|██▌       | 26/100 [00:01<00:04, 17.67it/s]\u001b[A\n",
      " 28%|██▊       | 28/100 [00:01<00:04, 17.92it/s]\u001b[A\n",
      " 30%|███       | 30/100 [00:01<00:04, 15.93it/s]\u001b[A\n",
      " 32%|███▏      | 32/100 [00:01<00:04, 16.39it/s]\u001b[A\n",
      " 34%|███▍      | 34/100 [00:02<00:04, 15.85it/s]\u001b[A\n",
      " 36%|███▌      | 36/100 [00:02<00:03, 16.63it/s]\u001b[A\n",
      " 38%|███▊      | 38/100 [00:02<00:03, 16.39it/s]\u001b[A\n",
      " 40%|████      | 40/100 [00:02<00:03, 15.34it/s]\u001b[A\n",
      " 42%|████▏     | 42/100 [00:02<00:03, 15.96it/s]\u001b[A\n",
      " 44%|████▍     | 44/100 [00:02<00:03, 14.86it/s]\u001b[A\n",
      " 46%|████▌     | 46/100 [00:02<00:03, 14.21it/s]\u001b[A\n",
      " 48%|████▊     | 48/100 [00:02<00:03, 14.81it/s]\u001b[A\n",
      " 50%|█████     | 50/100 [00:03<00:03, 15.57it/s]\u001b[A\n",
      " 52%|█████▏    | 52/100 [00:03<00:02, 16.17it/s]\u001b[A\n",
      " 54%|█████▍    | 54/100 [00:03<00:02, 16.69it/s]\u001b[A\n",
      " 56%|█████▌    | 56/100 [00:03<00:02, 15.06it/s]\u001b[A\n",
      " 58%|█████▊    | 58/100 [00:03<00:02, 14.26it/s]\u001b[A\n",
      " 61%|██████    | 61/100 [00:03<00:02, 15.71it/s]\u001b[A\n",
      " 63%|██████▎   | 63/100 [00:03<00:02, 16.55it/s]\u001b[A\n",
      " 65%|██████▌   | 65/100 [00:03<00:02, 17.44it/s]\u001b[A\n",
      " 67%|██████▋   | 67/100 [00:04<00:01, 17.94it/s]\u001b[A\n",
      " 70%|███████   | 70/100 [00:04<00:01, 18.55it/s]\u001b[A\n",
      " 72%|███████▏  | 72/100 [00:04<00:01, 17.34it/s]\u001b[A\n",
      " 74%|███████▍  | 74/100 [00:04<00:01, 17.68it/s]\u001b[A\n",
      " 76%|███████▌  | 76/100 [00:04<00:01, 17.74it/s]\u001b[A\n",
      " 78%|███████▊  | 78/100 [00:04<00:01, 17.96it/s]\u001b[A\n",
      " 80%|████████  | 80/100 [00:04<00:01, 18.32it/s]\u001b[A\n",
      " 82%|████████▏ | 82/100 [00:04<00:00, 18.56it/s]\u001b[A\n",
      " 85%|████████▌ | 85/100 [00:05<00:00, 19.37it/s]\u001b[A\n",
      " 88%|████████▊ | 88/100 [00:05<00:00, 20.22it/s]\u001b[A\n",
      " 91%|█████████ | 91/100 [00:05<00:00, 18.68it/s]\u001b[A\n",
      " 93%|█████████▎| 93/100 [00:05<00:00, 17.17it/s]\u001b[A\n",
      " 95%|█████████▌| 95/100 [00:05<00:00, 17.75it/s]\u001b[A\n",
      " 97%|█████████▋| 97/100 [00:05<00:00, 18.27it/s]\u001b[A\n",
      "100%|██████████| 100/100 [00:05<00:00, 16.98it/s][A\n"
     ]
    }
   ],
   "source": [
    "iters = 100\n",
    "samps = []\n",
    "\n",
    "for i in trange(iters):\n",
    "    \n",
    "    tf.random.set_seed(i)\n",
    "    samp, ind = importance_encode(target=target,\n",
    "                                  proposal=proposal,\n",
    "                                  kl=tfd.kl_divergence(target, proposal))\n",
    "    \n",
    "    samps.append(samp)"
   ]
  },
  {
   "cell_type": "code",
   "execution_count": 74,
   "metadata": {},
   "outputs": [
    {
     "data": {
      "image/png": "[encoded data removed]",
      "text/plain": [
       "<Figure size 432x288 with 1 Axes>"
      ]
     },
     "metadata": {
      "needs_background": "light"
     },
     "output_type": "display_data"
    }
   ],
   "source": [
    "xs = tf.linspace(-4., 4., 300)\n",
    "\n",
    "plt.plot(xs, target.prob(xs))\n",
    "plt.plot(xs, proposal.prob(xs))\n",
    "plt.hist(samps, bins=100, density=True)\n",
    "plt.show()"
   ]
  }
 ],
 "metadata": {
  "kernelspec": {
   "display_name": "Python 3",
   "language": "python",
   "name": "python3"
  },
  "language_info": {
   "codemirror_mode": {
    "name": "ipython",
    "version": 3
   },
   "file_extension": ".py",
   "mimetype": "text/x-python",
   "name": "python",
   "nbconvert_exporter": "python",
   "pygments_lexer": "ipython3",
   "version": "3.7.6"
  }
 },
 "nbformat": 4,
 "nbformat_minor": 4
}
