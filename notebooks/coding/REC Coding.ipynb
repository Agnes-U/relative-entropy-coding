{
 "cells": [
  {
   "cell_type": "code",
   "execution_count": 1,
   "metadata": {},
   "outputs": [],
   "source": [
    "import tensorflow as tf\n",
    "import tensorflow_probability as tfp\n",
    "tfd = tfp.distributions\n",
    "\n",
    "import numpy as np\n",
    "\n",
    "import matplotlib.pyplot as plt\n",
    "\n",
    "from tqdm import tqdm, trange\n",
    "\n",
    "from rec.coding.samplers import ImportanceSampler\n",
    "\n",
    "tf.config.experimental.set_visible_devices([], 'GPU')"
   ]
  },
  {
   "cell_type": "markdown",
   "metadata": {},
   "source": [
    "# Importance Sampling Encoder and Decoder"
   ]
  },
  {
   "cell_type": "code",
   "execution_count": 8,
   "metadata": {},
   "outputs": [
    {
     "name": "stdout",
     "output_type": "stream",
     "text": [
      "KL between target and proposal: 2.4894\n"
     ]
    }
   ],
   "source": [
    "target = tfd.Normal(loc=[-1.], scale=[0.3])\n",
    "proposal = tfd.Normal(loc=[1.], scale=[1.1])\n",
    "\n",
    "kl = tf.reduce_sum(tfd.kl_divergence(target, proposal))\n",
    "print(f\"KL between target and proposal: {kl:.4f}\")"
   ]
  },
  {
   "cell_type": "code",
   "execution_count": 9,
   "metadata": {},
   "outputs": [],
   "source": [
    "s = ImportanceSampler(alpha=1.)"
   ]
  },
  {
   "cell_type": "code",
   "execution_count": 10,
   "metadata": {
    "scrolled": false
   },
   "outputs": [
    {
     "name": "stderr",
     "output_type": "stream",
     "text": [
      "100%|██████████| 1000/1000 [00:04<00:00, 224.73it/s]\n"
     ]
    }
   ],
   "source": [
    "samps = []\n",
    "indices = []\n",
    "\n",
    "for i in trange(1000):\n",
    "    ind, samp = s.coded_sample(target=target,\n",
    "                               coder=proposal,\n",
    "                               seed=i)\n",
    "    \n",
    "    samps.append(samp)\n",
    "    indices.append(ind)\n",
    "samps = tf.concat(samps, axis=0)"
   ]
  },
  {
   "cell_type": "code",
   "execution_count": 11,
   "metadata": {
    "scrolled": false
   },
   "outputs": [
    {
     "data": {
      "image/png": "[encoded data removed]",
      "text/plain": [
       "<Figure size 432x288 with 1 Axes>"
      ]
     },
     "metadata": {
      "needs_background": "light"
     },
     "output_type": "display_data"
    },
    {
     "data": {
      "text/plain": [
       "<tf.Tensor: shape=(), dtype=float32, numpy=3.5302515>"
      ]
     },
     "execution_count": 11,
     "metadata": {},
     "output_type": "execute_result"
    }
   ],
   "source": [
    "xs = tf.linspace(-4., 10., 300)\n",
    "\n",
    "plt.plot(xs, target.prob(xs))\n",
    "plt.plot(xs, proposal.prob(xs))\n",
    "plt.hist(samps, bins=100, density=True)\n",
    "plt.show()\n",
    "\n",
    "tf.reduce_mean(tf.math.log(tf.cast(tf.stack(indices), tf.float32) + 1))"
   ]
  },
  {
   "cell_type": "code",
   "execution_count": 12,
   "metadata": {
    "scrolled": false
   },
   "outputs": [
    {
     "name": "stderr",
     "output_type": "stream",
     "text": [
      "100%|██████████| 1000/1000 [00:01<00:00, 595.42it/s]\n"
     ]
    }
   ],
   "source": [
    "dec_samps = []\n",
    "\n",
    "for i in trange(1000):\n",
    "    dec_samp = s.decode_sample(coder=proposal,\n",
    "                               sample_index=indices[i],\n",
    "                               seed=i)\n",
    "    dec_samps.append(dec_samp)\n",
    "    \n",
    "dec_samps = tf.concat(dec_samps, axis=0)"
   ]
  },
  {
   "cell_type": "code",
   "execution_count": 13,
   "metadata": {},
   "outputs": [
    {
     "data": {
      "text/plain": [
       "<tf.Tensor: shape=(), dtype=float32, numpy=0.0>"
      ]
     },
     "execution_count": 13,
     "metadata": {},
     "output_type": "execute_result"
    }
   ],
   "source": [
    "tf.reduce_sum(tf.abs(dec_samps - samps))"
   ]
  },
  {
   "cell_type": "code",
   "execution_count": null,
   "metadata": {},
   "outputs": [],
   "source": []
  }
 ],
 "metadata": {
  "kernelspec": {
   "display_name": "Python 3",
   "language": "python",
   "name": "python3"
  },
  "language_info": {
   "codemirror_mode": {
    "name": "ipython",
    "version": 3
   },
   "file_extension": ".py",
   "mimetype": "text/x-python",
   "name": "python",
   "nbconvert_exporter": "python",
   "pygments_lexer": "ipython3",
   "version": "3.7.6"
  }
 },
 "nbformat": 4,
 "nbformat_minor": 4
}
