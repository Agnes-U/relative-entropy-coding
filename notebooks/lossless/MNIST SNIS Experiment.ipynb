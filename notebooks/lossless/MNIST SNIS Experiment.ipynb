{
 "cells": [
  {
   "cell_type": "code",
   "execution_count": 1,
   "metadata": {},
   "outputs": [],
   "source": [
    "from rec.models.mnist_vae import MNISTVAE\n",
    "from rec.core.utils import setup_logger\n",
    "\n",
    "import tensorflow as tf\n",
    "tfl = tf.keras.layers\n",
    "\n",
    "import tensorflow_probability as tfp\n",
    "tfd = tfp.distributions\n",
    "\n",
    "import tensorflow_datasets as tfds\n",
    "\n",
    "import numpy as np\n",
    "import matplotlib.pyplot as plt\n",
    "\n",
    "from tqdm.notebook import tqdm"
   ]
  },
  {
   "cell_type": "code",
   "execution_count": 2,
   "metadata": {},
   "outputs": [],
   "source": [
    "# Taken from https://github.com/tensorflow/tensorflow/issues/31135#issuecomment-516526113\n",
    "# Set CPU as available physical device\n",
    "tf.config.experimental.set_visible_devices([], 'GPU')"
   ]
  },
  {
   "cell_type": "code",
   "execution_count": 3,
   "metadata": {},
   "outputs": [],
   "source": [
    "gaussian_save_dir = \"../../../../models/relative-entropy-coding/snis-experiments/gaussian\"\n",
    "mog_save_dir = \"../../../../models/relative-entropy-coding/snis-experiments/mog\"\n",
    "snis_save_dir = \"../../../../models/relative-entropy-coding/snis-experiments/snis\""
   ]
  },
  {
   "cell_type": "code",
   "execution_count": 4,
   "metadata": {},
   "outputs": [
    {
     "name": "stdout",
     "output_type": "stream",
     "text": [
      "Restored ../../../../models/relative-entropy-coding/snis-experiments/gaussian/ckpt-3330\n"
     ]
    }
   ],
   "source": [
    "gaussian_vae = MNISTVAE(name=\"gaussian_mnist_vae\", prior=tfd.Normal(loc=tf.zeros(50), scale=tf.ones(50)))\n",
    "\n",
    "gaussian_ckpt = tf.train.Checkpoint(model=gaussian_vae)\n",
    "\n",
    "gaussian_manager = tf.train.CheckpointManager(gaussian_ckpt, gaussian_save_dir, max_to_keep=3)\n",
    "\n",
    "gaussian_vae(tf.zeros([1, 28, 28, 1]))\n",
    "gaussian_ckpt.restore(gaussian_manager.latest_checkpoint)\n",
    "\n",
    "if gaussian_manager.latest_checkpoint:\n",
    "    print(f\"Restored {gaussian_manager.latest_checkpoint}\")"
   ]
  },
  {
   "cell_type": "code",
   "execution_count": 5,
   "metadata": {},
   "outputs": [],
   "source": [
    "dataset = tfds.load(\"binarized_mnist\",\n",
    "                    data_dir=\"/scratch/gf332/datasets/binarized_mnist\")\n",
    "\n",
    "test_ds = dataset[\"test\"]\n",
    "\n",
    "test_ds = test_ds.map(lambda x: tf.cast(x[\"image\"], tf.float32))"
   ]
  },
  {
   "cell_type": "code",
   "execution_count": 17,
   "metadata": {},
   "outputs": [
    {
     "data": {
      "application/vnd.jupyter.widget-view+json": {
       "model_id": "a9a7a5cfc6e140f8a48a62dc07beabc3",
       "version_major": 2,
       "version_minor": 0
      },
      "text/plain": [
       "HBox(children=(FloatProgress(value=0.0, max=10000.0), HTML(value='')))"
      ]
     },
     "metadata": {},
     "output_type": "display_data"
    },
    {
     "name": "stdout",
     "output_type": "stream",
     "text": [
      "\n"
     ]
    }
   ],
   "source": [
    "K = 1000\n",
    "num_samples = 10000\n",
    "\n",
    "log_liks = []\n",
    "\n",
    "model = gaussian_vae\n",
    "\n",
    "for i in tqdm(test_ds.take(num_samples), total=num_samples):\n",
    "\n",
    "    reconstruction = model(i[None, ...])[0,...,0]\n",
    "\n",
    "#     plt.figure(figsize=(9, 4))\n",
    "#     plt.subplot(121)\n",
    "#     plt.imshow(i[..., 0])\n",
    "#     plt.subplot(122)\n",
    "#     plt.imshow(reconstruction)\n",
    "\n",
    "    samples = tf.reshape(model.posterior.sample(K), [K, -1])\n",
    "\n",
    "    post_prob = model.posterior.log_prob(samples)\n",
    "    post_prob = tf.reduce_sum(post_prob, axis=1)\n",
    "\n",
    "    prior_prob = model.prior.log_prob(samples)\n",
    "    prior_prob = tf.reduce_sum(prior_prob, axis=1)\n",
    "\n",
    "    likelihood_loc = model.decoder(samples)\n",
    "    likelihood_dist = tfd.Bernoulli(probs=tf.clip_by_value(likelihood_loc, 1e-16, 1 - 1e-16))\n",
    "\n",
    "#     plt.figure(figsize=(13, 4))\n",
    "#     plt.subplot(131)\n",
    "#     plt.imshow(likelihood_loc[0, :, :, 0])\n",
    "#     plt.subplot(132)\n",
    "#     plt.imshow(likelihood_loc[1, ..., 0])\n",
    "#     plt.subplot(133)\n",
    "#     plt.imshow(likelihood_loc[2, ..., 0])\n",
    "\n",
    "    likelihood = likelihood_dist.log_prob(i)\n",
    "    likelihood = tf.einsum(\"ijkl -> i\", likelihood)\n",
    "\n",
    "    log_weights = prior_prob + likelihood - post_prob\n",
    "\n",
    "    log_lik = tf.reduce_logsumexp(log_weights)\n",
    "    log_lik = log_lik - tf.math.log(tf.cast(K, tf.float32))\n",
    "\n",
    "#     print(log_lik)\n",
    "    log_liks.append(log_lik)"
   ]
  },
  {
   "cell_type": "code",
   "execution_count": 16,
   "metadata": {},
   "outputs": [
    {
     "name": "stdout",
     "output_type": "stream",
     "text": [
      "Mean: -140.7995\n",
      "Standard deviation: 38.5082\n"
     ]
    }
   ],
   "source": [
    "mean, var = tf.nn.moments(tf.convert_to_tensor(log_liks), axes=[0])\n",
    "\n",
    "print(f\"Mean: {mean:.4f}\")\n",
    "print(f\"Standard deviation: {tf.sqrt(var):.4f}\")"
   ]
  },
  {
   "cell_type": "code",
   "execution_count": null,
   "metadata": {},
   "outputs": [],
   "source": []
  }
 ],
 "metadata": {
  "kernelspec": {
   "display_name": "Python 3",
   "language": "python",
   "name": "python3"
  },
  "language_info": {
   "codemirror_mode": {
    "name": "ipython",
    "version": 3
   },
   "file_extension": ".py",
   "mimetype": "text/x-python",
   "name": "python",
   "nbconvert_exporter": "python",
   "pygments_lexer": "ipython3",
   "version": "3.7.6"
  }
 },
 "nbformat": 4,
 "nbformat_minor": 2
}
