{
 "cells": [
  {
   "cell_type": "code",
   "execution_count": 1,
   "metadata": {},
   "outputs": [],
   "source": [
    "from rec.models.mnist_vae import MNISTVAE\n",
    "\n",
    "import tensorflow as tf\n",
    "tfl = tf.keras.layers\n",
    "\n",
    "import tensorflow_probability as tfp\n",
    "tfd = tfp.distributions\n",
    "\n",
    "import tensorflow_datasets as tfds\n",
    "\n",
    "import numpy as np\n",
    "import matplotlib.pyplot as plt\n",
    "\n",
    "from tqdm.notebook import tqdm"
   ]
  },
  {
   "cell_type": "code",
   "execution_count": 2,
   "metadata": {},
   "outputs": [],
   "source": [
    "save_dir = \"../../../../models/relative-entropy-coding/snis-experiments/gaussian\""
   ]
  },
  {
   "cell_type": "code",
   "execution_count": 3,
   "metadata": {},
   "outputs": [
    {
     "name": "stdout",
     "output_type": "stream",
     "text": [
      "Restored ../../../../models/relative-entropy-coding/snis-experiments/gaussian/ckpt-16\n"
     ]
    }
   ],
   "source": [
    "gauss_vae = MNISTVAE(prior=tfd.Normal(loc=tf.zeros(50), scale=tf.ones(50)),\n",
    "                     latents=50)\n",
    "\n",
    "optimizer = tf.optimizers.Adam(1e-4)\n",
    "\n",
    "ckpt = tf.train.Checkpoint(step=tf.Variable(1, dtype=tf.int64),\n",
    "                           optimizer=optimizer,\n",
    "                           model=gauss_vae)\n",
    "\n",
    "manager = tf.train.CheckpointManager(ckpt, save_dir, max_to_keep=3)\n",
    "\n",
    "status = ckpt.restore(manager.latest_checkpoint)\n",
    "\n",
    "if manager.latest_checkpoint:\n",
    "    print(f\"Restored {manager.latest_checkpoint}\")"
   ]
  },
  {
   "cell_type": "code",
   "execution_count": 4,
   "metadata": {},
   "outputs": [],
   "source": [
    "dataset = tfds.load(\"binarized_mnist\",\n",
    "                    data_dir=\"/scratch/gf332/datasets/binarized_mnist\")\n",
    "\n",
    "test_ds = dataset[\"test\"]\n",
    "\n",
    "test_ds = test_ds.map(lambda x: tf.cast(x[\"image\"], tf.float32))"
   ]
  },
  {
   "cell_type": "code",
   "execution_count": 5,
   "metadata": {},
   "outputs": [
    {
     "name": "stdout",
     "output_type": "stream",
     "text": [
      "tf.Tensor(-826.24445, shape=(), dtype=float32)\n"
     ]
    },
    {
     "data": {
      "image/png": "[encoded data removed]",
      "text/plain": [
       "<Figure size 432x288 with 1 Axes>"
      ]
     },
     "metadata": {
      "needs_background": "light"
     },
     "output_type": "display_data"
    }
   ],
   "source": [
    "K = 50\n",
    "\n",
    "for i in test_ds.take(1):\n",
    "    plt.imshow(gauss_vae(i[None, ...])[0,...,0])\n",
    "    \n",
    "    samples = tf.reshape(gauss_vae.posterior.sample(K), [K, -1])\n",
    "    \n",
    "    post_prob = gauss_vae.posterior.log_prob(samples)\n",
    "    post_prob = tf.reduce_sum(post_prob, axis=1)\n",
    "    \n",
    "    prior_prob = gauss_vae.prior.log_prob(samples)\n",
    "    prior_prob = tf.reduce_sum(prior_prob, axis=1)\n",
    "    \n",
    "    likelihood_loc = gauss_vae.decoder(samples)\n",
    "    likelihood_dist = tfd.Normal(loc=likelihood_loc, scale=1.)\n",
    "    \n",
    "    likelihood = likelihood_dist.log_prob(i)\n",
    "    likelihood = tf.einsum(\"ijkl -> i\", likelihood)\n",
    "\n",
    "    log_weights = prior_prob + likelihood - post_prob\n",
    "    \n",
    "    log_lik = tf.reduce_logsumexp(log_weights)\n",
    "    log_lik = log_lik - tf.math.log(tf.cast(K, tf.float32))\n",
    "    \n",
    "    print(log_lik)"
   ]
  },
  {
   "cell_type": "code",
   "execution_count": null,
   "metadata": {},
   "outputs": [],
   "source": []
  }
 ],
 "metadata": {
  "kernelspec": {
   "display_name": "Python 3",
   "language": "python",
   "name": "python3"
  },
  "language_info": {
   "codemirror_mode": {
    "name": "ipython",
    "version": 3
   },
   "file_extension": ".py",
   "mimetype": "text/x-python",
   "name": "python",
   "nbconvert_exporter": "python",
   "pygments_lexer": "ipython3",
   "version": "3.7.4"
  }
 },
 "nbformat": 4,
 "nbformat_minor": 2
}
