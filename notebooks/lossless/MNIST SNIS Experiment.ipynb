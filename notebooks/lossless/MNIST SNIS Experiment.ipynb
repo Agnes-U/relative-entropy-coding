{
 "cells": [
  {
   "cell_type": "code",
   "execution_count": 1,
   "metadata": {},
   "outputs": [],
   "source": [
    "from rec.models.mnist_vae import MNISTVAE\n",
    "from rec.core.utils import setup_logger\n",
    "\n",
    "import tensorflow as tf\n",
    "tfl = tf.keras.layers\n",
    "\n",
    "import tensorflow_probability as tfp\n",
    "tfd = tfp.distributions\n",
    "\n",
    "import tensorflow_datasets as tfds\n",
    "\n",
    "import numpy as np\n",
    "import matplotlib.pyplot as plt\n",
    "\n",
    "from tqdm.notebook import tqdm\n",
    "\n",
    "import logging"
   ]
  },
  {
   "cell_type": "code",
   "execution_count": 2,
   "metadata": {},
   "outputs": [],
   "source": [
    "save_dir = \"../../../../models/relative-entropy-coding/snis-experiments/gaussian\""
   ]
  },
  {
   "cell_type": "code",
   "execution_count": 3,
   "metadata": {},
   "outputs": [
    {
     "name": "stdout",
     "output_type": "stream",
     "text": [
      "Restored ../../../../models/relative-entropy-coding/snis-experiments/gaussian/ckpt-36\n"
     ]
    }
   ],
   "source": [
    "gauss_vae = MNISTVAE(name=\"gaussian_mnist_vae\", prior=tfd.Normal(loc=tf.zeros(50), scale=tf.ones(50)))\n",
    "\n",
    "ckpt = tf.train.Checkpoint(model=gauss_vae)\n",
    "\n",
    "manager = tf.train.CheckpointManager(ckpt, save_dir, max_to_keep=3)\n",
    "\n",
    "gauss_vae(tf.zeros([1, 28, 28, 1]))\n",
    "status = ckpt.restore(manager.latest_checkpoint)\n",
    "\n",
    "if manager.latest_checkpoint:\n",
    "    print(f\"Restored {manager.latest_checkpoint}\")"
   ]
  },
  {
   "cell_type": "code",
   "execution_count": 4,
   "metadata": {},
   "outputs": [],
   "source": [
    "dataset = tfds.load(\"binarized_mnist\",\n",
    "                    data_dir=\"/scratch/gf332/datasets/binarized_mnist\")\n",
    "\n",
    "test_ds = dataset[\"test\"]\n",
    "\n",
    "test_ds = test_ds.map(lambda x: tf.cast(x[\"image\"], tf.float32))"
   ]
  },
  {
   "cell_type": "code",
   "execution_count": 19,
   "metadata": {},
   "outputs": [
    {
     "name": "stdout",
     "output_type": "stream",
     "text": [
      "tf.Tensor(-130.9443, shape=(), dtype=float32)\n"
     ]
    },
    {
     "data": {
      "image/png": "[encoded data removed]",
      "text/plain": [
       "<Figure size 648x288 with 2 Axes>"
      ]
     },
     "metadata": {
      "needs_background": "light"
     },
     "output_type": "display_data"
    }
   ],
   "source": [
    "K = 1\n",
    "\n",
    "for i in test_ds.take(1):\n",
    "    plt.figure(figsize=(9, 4))\n",
    "    plt.subplot(121)\n",
    "    plt.imshow(i[..., 0])\n",
    "    plt.subplot(122)\n",
    "    plt.imshow(gauss_vae(i[None, ...])[0,...,0])\n",
    "    \n",
    "    samples = tf.reshape(gauss_vae.posterior.sample(K), [K, -1])\n",
    "    \n",
    "    post_prob = gauss_vae.posterior.log_prob(samples)\n",
    "    post_prob = tf.reduce_sum(post_prob, axis=1)\n",
    "    \n",
    "    prior_prob = gauss_vae.prior.log_prob(samples)\n",
    "    prior_prob = tf.reduce_sum(prior_prob, axis=1)\n",
    "    \n",
    "    likelihood_loc = gauss_vae.decoder(samples)\n",
    "    likelihood_dist = tfd.Bernoulli(probs=tf.clip_by_value(likelihood_loc, 1e-9, 1 - 1e-9))\n",
    "    \n",
    "#     plt.figure(figsize=(13, 4))\n",
    "#     plt.subplot(131)\n",
    "#     plt.imshow(likelihood_loc[0, :, :, 0])\n",
    "#     plt.subplot(132)\n",
    "#     plt.imshow(likelihood_loc[1, ..., 0])\n",
    "#     plt.subplot(133)\n",
    "#     plt.imshow(likelihood_loc[2, ..., 0])\n",
    "    \n",
    "    likelihood = likelihood_dist.log_prob(i)\n",
    "    likelihood = tf.einsum(\"ijkl -> i\", likelihood)\n",
    "\n",
    "    log_weights = prior_prob + likelihood - post_prob\n",
    "    \n",
    "    log_lik = tf.reduce_logsumexp(log_weights)\n",
    "    log_lik = log_lik - tf.math.log(tf.cast(K, tf.float32))\n",
    "    \n",
    "    print(log_lik)"
   ]
  },
  {
   "cell_type": "code",
   "execution_count": 16,
   "metadata": {},
   "outputs": [
    {
     "data": {
      "text/plain": [
       "<tf.Tensor: id=2271, shape=(), dtype=float32, numpy=0.95485604>"
      ]
     },
     "execution_count": 16,
     "metadata": {},
     "output_type": "execute_result"
    }
   ],
   "source": [
    "tf.reduce_max(tf.abs(likelihood_loc - i))"
   ]
  },
  {
   "cell_type": "code",
   "execution_count": 12,
   "metadata": {},
   "outputs": [
    {
     "data": {
      "text/plain": [
       "<tf.Tensor: id=2070, shape=(), dtype=float32, numpy=0.0>"
      ]
     },
     "execution_count": 12,
     "metadata": {},
     "output_type": "execute_result"
    }
   ],
   "source": [
    "likelihood_loc[0, 0, 0, 0]"
   ]
  },
  {
   "cell_type": "code",
   "execution_count": 13,
   "metadata": {},
   "outputs": [
    {
     "data": {
      "text/plain": [
       "<tf.Tensor: id=774, shape=(), dtype=float32, numpy=0.70812285>"
      ]
     },
     "execution_count": 13,
     "metadata": {},
     "output_type": "execute_result"
    }
   ],
   "source": [
    "tf.reduce_mean(gauss_vae.posterior.scale)"
   ]
  },
  {
   "cell_type": "code",
   "execution_count": 3,
   "metadata": {},
   "outputs": [],
   "source": [
    "gauss_vae = MNISTVAE(prior=tfd.Normal(loc=tf.zeros(50), scale=tf.ones(50)))"
   ]
  },
  {
   "cell_type": "code",
   "execution_count": 28,
   "metadata": {},
   "outputs": [
    {
     "name": "stdout",
     "output_type": "stream",
     "text": [
      "(30, 50)\n",
      "(30, 50)\n",
      "tf.Tensor(0.11504004, shape=(), dtype=float32)\n",
      "tf.Tensor(0.10673923, shape=(), dtype=float32)\n"
     ]
    }
   ],
   "source": [
    "gauss_vae(tf.zeros([30, 28, 28, 1]), training=True)\n",
    "\n",
    "emp_kl = tf.reduce_mean(gauss_vae.kl_divergence)\n",
    "actual_kl = tf.reduce_mean(tfd.kl_divergence(gauss_vae.posterior, gauss_vae.prior))\n",
    "\n",
    "print(emp_kl)\n",
    "print(actual_kl)"
   ]
  }
 ],
 "metadata": {
  "kernelspec": {
   "display_name": "Python 3",
   "language": "python",
   "name": "python3"
  },
  "language_info": {
   "codemirror_mode": {
    "name": "ipython",
    "version": 3
   },
   "file_extension": ".py",
   "mimetype": "text/x-python",
   "name": "python",
   "nbconvert_exporter": "python",
   "pygments_lexer": "ipython3",
   "version": "3.7.4"
  }
 },
 "nbformat": 4,
 "nbformat_minor": 2
}
