{
 "cells": [
  {
   "cell_type": "code",
   "execution_count": 16,
   "metadata": {},
   "outputs": [],
   "source": [
    "from rec.models.mnist_vae import MNISTVAE, MNISTVampVAE\n",
    "from rec.core.utils import setup_logger\n",
    "\n",
    "from rec.core.modules.snis_distribution import SNISDistribution\n",
    "\n",
    "import os\n",
    "\n",
    "import tensorflow as tf\n",
    "tfl = tf.keras.layers\n",
    "\n",
    "import tensorflow_probability as tfp\n",
    "tfd = tfp.distributions\n",
    "\n",
    "import tensorflow_datasets as tfds\n",
    "\n",
    "import numpy as np\n",
    "import matplotlib.pyplot as plt\n",
    "\n",
    "from tqdm.notebook import tqdm\n",
    "\n",
    "data_save_dir = \"../experimental_data/mnist_emp_bayes/\""
   ]
  },
  {
   "cell_type": "code",
   "execution_count": 2,
   "metadata": {},
   "outputs": [],
   "source": [
    "# Taken from https://github.com/tensorflow/tensorflow/issues/31135#issuecomment-516526113\n",
    "# Set CPU as available physical device\n",
    "tf.config.experimental.set_visible_devices([], 'GPU')"
   ]
  },
  {
   "cell_type": "code",
   "execution_count": 3,
   "metadata": {},
   "outputs": [
    {
     "name": "stdout",
     "output_type": "stream",
     "text": [
      "gaussian  gaussian_with_constraint  mog  snis  vamp\r\n"
     ]
    }
   ],
   "source": [
    "!ls ../../../../models/relative-entropy-coding/empirical-bayes-experiments/mnist"
   ]
  },
  {
   "cell_type": "code",
   "execution_count": 4,
   "metadata": {},
   "outputs": [],
   "source": [
    "gaussian_save_dir = \"../../../../models/relative-entropy-coding/empirical-bayes-experiments/mnist/gaussian\"\n",
    "max_gaussian_save_dir = \"../../../../models/relative-entropy-coding/empirical-bayes-experiments/mnist/gaussian_with_constraint\"\n",
    "mog_save_dir = \"../../../../models/relative-entropy-coding/empirical-bayes-experiments/mnist/mog\"\n",
    "snis_save_dir = \"../../../../models/relative-entropy-coding/empirical-bayes-experiments/mnist/snis\"\n",
    "vamp_save_dir = \"../../../../models/relative-entropy-coding/empirical-bayes-experiments/mnist/vamp\""
   ]
  },
  {
   "cell_type": "code",
   "execution_count": 5,
   "metadata": {},
   "outputs": [
    {
     "name": "stdout",
     "output_type": "stream",
     "text": [
      "WARNING:tensorflow:From /scratch/gf332/CWOQ/relative-entropy-coding/rec-venv/lib/python3.7/site-packages/tensorflow_probability/python/distributions/categorical.py:225: Categorical._logits_deprecated_behavior (from tensorflow_probability.python.distributions.categorical) is deprecated and will be removed after 2019-10-01.\n",
      "Instructions for updating:\n",
      "The `logits` property will return `None` when the distribution is parameterized with `logits=None`. Use `logits_parameter()` instead.\n"
     ]
    }
   ],
   "source": [
    "# Standard Gaussian VAE\n",
    "gaussian_vae = MNISTVAE(name=\"gaussian_mnist_vae\", \n",
    "                        prior=tfd.Normal(loc=tf.zeros(50), scale=tf.ones(50)))\n",
    "\n",
    "# Standard Gaussian VAE with max-ELBO\n",
    "max_gaussian_vae = MNISTVAE(name=\"max_gaussian_mnist_vae\", prior=tfd.Normal(loc=tf.zeros(50), scale=tf.ones(50)))\n",
    "\n",
    "# MoG VAE\n",
    "# Create MoG\n",
    "num_components = 100\n",
    "\n",
    "loc = tf.Variable(tf.random.uniform(shape=(50, num_components), minval=-1., maxval=1.))\n",
    "log_scale = tf.Variable(tf.random.uniform(shape=(50, num_components), minval=-1., maxval=1.))\n",
    "\n",
    "scale = 1e-5 + tf.nn.softplus(log_scale)\n",
    "\n",
    "components = tfd.Normal(loc=loc,\n",
    "                        scale=scale)\n",
    "\n",
    "mixture = tfd.MixtureSameFamily(mixture_distribution=tfd.Categorical(probs=[1. / num_components] * num_components),\n",
    "                                components_distribution=components)\n",
    "\n",
    "# Instantiate model\n",
    "mog_vae = MNISTVAE(name=\"mog_mnist_vae\", \n",
    "                   prior=mixture)\n",
    "\n",
    "# VampVAE\n",
    "vamp_vae = MNISTVampVAE(name=\"vamp_mnist_vae\", latents=50)\n",
    "\n",
    "# SNIS VAE\n",
    "snis_network = tf.keras.Sequential([\n",
    "            tfl.Dense(units=100,\n",
    "                      activation=tf.nn.tanh),\n",
    "            tfl.Dense(units=100,\n",
    "                      activation=tf.nn.tanh),\n",
    "            tfl.Dense(units=1)\n",
    "        ])\n",
    "\n",
    "prior = SNISDistribution(energy_fn=snis_network,\n",
    "                         prior=tfd.Normal(loc=tf.zeros(50),\n",
    "                                          scale=tf.ones(50)),\n",
    "                         K=1024)\n",
    "\n",
    "snis_vae = MNISTVAE(name=\"snis_mnist_vae\",\n",
    "                     prior=prior)"
   ]
  },
  {
   "cell_type": "code",
   "execution_count": 6,
   "metadata": {},
   "outputs": [],
   "source": [
    "vaes = {\n",
    "    \"gaussian\": (gaussian_vae, gaussian_save_dir),\n",
    "    #\"max_gaussian\": (max_gaussian_vae, max_gaussian_save_dir),\n",
    "#     #\"mog\": (mog_vae, mog_save_dir),\n",
    "#    \"vamp\": (vamp_vae, vamp_save_dir),\n",
    "#    \"snis\": (snis_vae, snis_save_dir)\n",
    "}"
   ]
  },
  {
   "cell_type": "code",
   "execution_count": 7,
   "metadata": {
    "scrolled": false
   },
   "outputs": [
    {
     "name": "stdout",
     "output_type": "stream",
     "text": [
      "Restored ../../../../models/relative-entropy-coding/empirical-bayes-experiments/mnist/gaussian/ckpt-287\n"
     ]
    }
   ],
   "source": [
    "for k, (model, save_dir) in vaes.items():\n",
    "\n",
    "    ckpt = tf.train.Checkpoint(model=model)\n",
    "    \n",
    "    if not os.path.exists(save_dir):\n",
    "        print(f\"{k} has not been trained yet!\")\n",
    "        continue\n",
    "\n",
    "    manager = tf.train.CheckpointManager(ckpt, save_dir, max_to_keep=3)\n",
    "\n",
    "    model(tf.zeros([1, 28, 28, 1]))\n",
    "    ckpt.restore(manager.latest_checkpoint)\n",
    "\n",
    "    if manager.latest_checkpoint:\n",
    "        print(f\"Restored {manager.latest_checkpoint}\")"
   ]
  },
  {
   "cell_type": "code",
   "execution_count": null,
   "metadata": {},
   "outputs": [],
   "source": [
    "\n",
    "\n",
    "gaussian_ckpt = tf.train.Checkpoint(model=gaussian_vae)\n",
    "\n",
    "gaussian_manager = tf.train.CheckpointManager(gaussian_ckpt, gaussian_save_dir, max_to_keep=3)\n",
    "\n",
    "gaussian_vae(tf.zeros([1, 28, 28, 1]))\n",
    "gaussian_ckpt.restore(gaussian_manager.latest_checkpoint)\n",
    "\n",
    "if gaussian_manager.latest_checkpoint:\n",
    "    print(f\"Restored {gaussian_manager.latest_checkpoint}\")"
   ]
  },
  {
   "cell_type": "code",
   "execution_count": 6,
   "metadata": {},
   "outputs": [
    {
     "name": "stdout",
     "output_type": "stream",
     "text": [
      "WARNING:tensorflow:From /scratch/gf332/CWOQ/relative-entropy-coding/rec-venv/lib/python3.7/site-packages/tensorflow_probability/python/distributions/categorical.py:225: Categorical._logits_deprecated_behavior (from tensorflow_probability.python.distributions.categorical) is deprecated and will be removed after 2019-10-01.\n",
      "Instructions for updating:\n",
      "The `logits` property will return `None` when the distribution is parameterized with `logits=None`. Use `logits_parameter()` instead.\n",
      "Restored ../../../../models/relative-entropy-coding/empirical-bayes-experiments/mnist/mog/ckpt-243\n"
     ]
    }
   ],
   "source": [
    "\n",
    "\n",
    "mog_ckpt = tf.train.Checkpoint(model=mog_vae)\n",
    "\n",
    "mog_manager = tf.train.CheckpointManager(mog_ckpt, mog_save_dir, max_to_keep=3)\n",
    "\n",
    "mog_vae(tf.zeros([1, 28, 28, 1]))\n",
    "mog_ckpt.restore(mog_manager.latest_checkpoint)\n",
    "\n",
    "if mog_manager.latest_checkpoint:\n",
    "    print(f\"Restored {mog_manager.latest_checkpoint}\")"
   ]
  },
  {
   "cell_type": "code",
   "execution_count": 5,
   "metadata": {},
   "outputs": [
    {
     "name": "stdout",
     "output_type": "stream",
     "text": [
      "Restored ../../../../models/relative-entropy-coding/empirical-bayes-experiments/mnist/vamp/ckpt-5090\n"
     ]
    }
   ],
   "source": [
    "\n",
    "\n",
    "vamp_ckpt = tf.train.Checkpoint(model=vamp_vae)\n",
    "\n",
    "vamp_manager = tf.train.CheckpointManager(vamp_ckpt, vamp_save_dir, max_to_keep=3)\n",
    "\n",
    "vamp_vae(tf.zeros([1, 28, 28, 1]))\n",
    "vamp_ckpt.restore(vamp_manager.latest_checkpoint)\n",
    "\n",
    "if vamp_manager.latest_checkpoint:\n",
    "    print(f\"Restored {vamp_manager.latest_checkpoint}\")"
   ]
  },
  {
   "cell_type": "code",
   "execution_count": 8,
   "metadata": {},
   "outputs": [
    {
     "name": "stdout",
     "output_type": "stream",
     "text": [
      "Restored ../../../../models/relative-entropy-coding/empirical-bayes-experiments/mnist/snis/ckpt-677\n"
     ]
    }
   ],
   "source": [
    "\n",
    "\n",
    "snis_ckpt = tf.train.Checkpoint(model=snis_vae)\n",
    "\n",
    "snis_manager = tf.train.CheckpointManager(snis_ckpt, snis_save_dir, max_to_keep=3)\n",
    "\n",
    "snis_vae(tf.zeros([1, 28, 28, 1]))\n",
    "snis_ckpt.restore(snis_manager.latest_checkpoint)\n",
    "\n",
    "if snis_manager.latest_checkpoint:\n",
    "    print(f\"Restored {snis_manager.latest_checkpoint}\")"
   ]
  },
  {
   "cell_type": "code",
   "execution_count": 8,
   "metadata": {},
   "outputs": [],
   "source": [
    "dataset = tfds.load(\"binarized_mnist\",\n",
    "                    data_dir=\"/scratch/gf332/datasets/binarized_mnist\")\n",
    "\n",
    "test_ds = dataset[\"test\"]\n",
    "\n",
    "test_ds = test_ds.map(lambda x: tf.cast(x[\"image\"], tf.float32))"
   ]
  },
  {
   "cell_type": "markdown",
   "metadata": {},
   "source": [
    "IWAE lower bound:\n",
    "\n",
    "$$\n",
    "\\log p(x) \\geq \\mathbb{E}_{z_1,...,z_k \\sim q(z \\mid x)}\\left[ \\log\\left(\\frac1k \\sum_{i=1}^k \\frac{p(x, z_i)}{q(z_i\\mid x)}\\right)\\right]\n",
    "$$\n",
    "The right side is equal to\n",
    "$$\n",
    "\\mathbb{E}_{z_1,...,z_k \\sim q(z \\mid x)}\\left[ -\\log k + \\log \\sum_{i=1}^k\\exp\\left\\{\\log p(x \\mid z_i) + \\log p(z_i) - \\log q(z_i \\mid x)\\right\\} \\right]\n",
    "$$"
   ]
  },
  {
   "cell_type": "code",
   "execution_count": 19,
   "metadata": {},
   "outputs": [
    {
     "data": {
      "application/vnd.jupyter.widget-view+json": {
       "model_id": "1c02a164084f46689837276ac01c2df9",
       "version_major": 2,
       "version_minor": 0
      },
      "text/plain": [
       "HBox(children=(FloatProgress(value=0.0, max=1.0), HTML(value='')))"
      ]
     },
     "metadata": {},
     "output_type": "display_data"
    },
    {
     "name": "stdout",
     "output_type": "stream",
     "text": [
      "\n"
     ]
    }
   ],
   "source": [
    "K = 1000\n",
    "num_samples = 1\n",
    "\n",
    "log_liks = []\n",
    "\n",
    "model = vaes[\"gaussian\"][0]\n",
    "\n",
    "for i in tqdm(test_ds.take(num_samples), total=num_samples):\n",
    "\n",
    "    reconstruction = model(i[None, ...], training=True)[0,...,0]\n",
    "\n",
    "    samples = tf.reshape(model.posterior.sample(K), [K, -1])\n",
    "\n",
    "    post_prob = model.posterior.log_prob(samples)\n",
    "    post_prob = tf.reduce_sum(post_prob, axis=1)\n",
    "    \n",
    "    np.save(f\"{data_save_dir}/latent_50_gauss_post_loc.npy\", model.posterior.loc.numpy())\n",
    "    np.save(f\"{data_save_dir}/latent_50_gauss_post_scale.npy\", model.posterior.scale.numpy())\n",
    "    \n",
    "    np.save(f\"{data_save_dir}/latent_50_gauss_prior_loc.npy\", model.prior.loc.numpy())\n",
    "    np.save(f\"{data_save_dir}/latent_50_gauss_prior_scale.npy\", model.prior.scale.numpy())\n",
    "\n",
    "    prior_prob = model.prior.log_prob(samples)\n",
    "    prior_prob = tf.reduce_sum(prior_prob, axis=1)\n",
    "\n",
    "    likelihood_loc = model.decoder(samples)\n",
    "    likelihood_dist = tfd.Bernoulli(probs=tf.clip_by_value(likelihood_loc, 1e-20, 1 - 1e-20))\n",
    "\n",
    "    likelihood = likelihood_dist.log_prob(i)\n",
    "    likelihood = tf.einsum(\"ijkl -> i\", likelihood)\n",
    "\n",
    "    log_weights = prior_prob + likelihood - post_prob \n",
    "\n",
    "    log_lik = tf.reduce_logsumexp(log_weights)\n",
    "    log_lik = log_lik - tf.math.log(tf.cast(K, tf.float32))\n",
    "\n",
    "    log_liks.append(log_lik)"
   ]
  },
  {
   "cell_type": "code",
   "execution_count": 17,
   "metadata": {},
   "outputs": [
    {
     "data": {
      "text/plain": [
       "<function numpy.save(file, arr, allow_pickle=True, fix_imports=True)>"
      ]
     },
     "execution_count": 17,
     "metadata": {},
     "output_type": "execute_result"
    }
   ],
   "source": [
    "np.save"
   ]
  },
  {
   "cell_type": "code",
   "execution_count": 10,
   "metadata": {},
   "outputs": [
    {
     "name": "stdout",
     "output_type": "stream",
     "text": [
      "Mean: -88.9366\n",
      "Standard deviation: 22.2782\n"
     ]
    }
   ],
   "source": [
    "mean, var = tf.nn.moments(tf.convert_to_tensor(log_liks), axes=[0])\n",
    "\n",
    "print(f\"Mean: {mean:.4f}\")\n",
    "print(f\"Standard deviation: {tf.sqrt(var):.4f}\")"
   ]
  },
  {
   "cell_type": "code",
   "execution_count": 11,
   "metadata": {},
   "outputs": [
    {
     "data": {
      "application/vnd.jupyter.widget-view+json": {
       "model_id": "29ad9c8e36144963aa30db11dafc8c5d",
       "version_major": 2,
       "version_minor": 0
      },
      "text/plain": [
       "HBox(children=(FloatProgress(value=0.0), HTML(value='')))"
      ]
     },
     "metadata": {},
     "output_type": "display_data"
    },
    {
     "name": "stdout",
     "output_type": "stream",
     "text": [
      "\n"
     ]
    }
   ],
   "source": [
    "kls = []\n",
    "num_samples = 100\n",
    "\n",
    "for i in tqdm(test_ds.take(num_samples), total=num_samples):\n",
    "    \n",
    "    reconstruction = model(i[None, ...], training=True)[0,...,0]\n",
    "    \n",
    "    samples = model.posterior.sample()\n",
    "\n",
    "    post_prob = model.posterior.log_prob(samples)\n",
    "    prior_prob = model.prior.log_prob(samples)\n",
    "    \n",
    "    kl = tf.reduce_sum(post_prob - prior_prob)\n",
    "    \n",
    "    kls.append(kl)"
   ]
  },
  {
   "cell_type": "code",
   "execution_count": 16,
   "metadata": {},
   "outputs": [],
   "source": [
    "for i in test_ds.take(1):\n",
    "\n",
    "    reconstruction = gaussian_vae(i[None, ...], training=True)[0,...,0]\n",
    "\n",
    "    sample = gaussian_vae.posterior.sample()\n",
    "    \n",
    "    kls = gaussian_vae.posterior.log_prob(sample) - gaussian_vae.prior.log_prob(sample)"
   ]
  },
  {
   "cell_type": "code",
   "execution_count": 17,
   "metadata": {},
   "outputs": [
    {
     "data": {
      "text/plain": [
       "<BarContainer object of 50 artists>"
      ]
     },
     "execution_count": 17,
     "metadata": {},
     "output_type": "execute_result"
    },
    {
     "data": {
      "image/png": "[encoded data removed]",
      "text/plain": [
       "<Figure size 432x288 with 1 Axes>"
      ]
     },
     "metadata": {
      "needs_background": "light"
     },
     "output_type": "display_data"
    }
   ],
   "source": [
    "plt.bar(tf.range(50, dtype=tf.float32), kls[0])"
   ]
  },
  {
   "cell_type": "code",
   "execution_count": 14,
   "metadata": {},
   "outputs": [
    {
     "data": {
      "text/plain": [
       "<tf.Tensor: id=1095, shape=(), dtype=float32, numpy=3.2038617>"
      ]
     },
     "execution_count": 14,
     "metadata": {},
     "output_type": "execute_result"
    }
   ],
   "source": [
    "tf.reduce_max(kls)"
   ]
  },
  {
   "cell_type": "code",
   "execution_count": 29,
   "metadata": {},
   "outputs": [
    {
     "data": {
      "text/plain": [
       "<tf.Tensor: id=1325, shape=(), dtype=float32, numpy=3.20568>"
      ]
     },
     "execution_count": 29,
     "metadata": {},
     "output_type": "execute_result"
    }
   ],
   "source": [
    "tf.reduce_logsumexp(kls * 100) / 100"
   ]
  }
 ],
 "metadata": {
  "kernelspec": {
   "display_name": "Python 3",
   "language": "python",
   "name": "python3"
  },
  "language_info": {
   "codemirror_mode": {
    "name": "ipython",
    "version": 3
   },
   "file_extension": ".py",
   "mimetype": "text/x-python",
   "name": "python",
   "nbconvert_exporter": "python",
   "pygments_lexer": "ipython3",
   "version": "3.7.6"
  }
 },
 "nbformat": 4,
 "nbformat_minor": 2
}
