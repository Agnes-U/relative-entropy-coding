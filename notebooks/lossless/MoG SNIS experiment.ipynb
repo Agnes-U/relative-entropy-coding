{
 "cells": [
  {
   "cell_type": "code",
   "execution_count": 1,
   "metadata": {},
   "outputs": [],
   "source": [
    "from rec.core.modules.snis_distribution import SNISDistribution\n",
    "\n",
    "import tensorflow as tf\n",
    "tfl = tf.keras.layers\n",
    "\n",
    "import tensorflow_probability as tfp\n",
    "tfd = tfp.distributions\n",
    "\n",
    "import numpy as np\n",
    "\n",
    "import matplotlib.pyplot as plt\n",
    "\n",
    "from tqdm.notebook import tqdm"
   ]
  },
  {
   "cell_type": "code",
   "execution_count": 2,
   "metadata": {},
   "outputs": [],
   "source": [
    "# Set CPU as available physical device\n",
    "tf.config.experimental.set_visible_devices([], 'GPU')"
   ]
  },
  {
   "cell_type": "markdown",
   "metadata": {},
   "source": [
    "# Mixture of Gaussians"
   ]
  },
  {
   "cell_type": "code",
   "execution_count": 3,
   "metadata": {},
   "outputs": [],
   "source": [
    "component_means = np.array([[-1, -1],\n",
    "                            [-1, 0],\n",
    "                            [-1, 1],\n",
    "                            [0, -1],\n",
    "                            [0, 0],\n",
    "                            [0, 1],\n",
    "                            [1, -1],\n",
    "                            [1, 0],\n",
    "                            [1, 1]], dtype=np.float32)\n",
    "component_stds = 0.1\n",
    "\n",
    "components = [tfd.Normal(loc=loc, scale=component_stds) for loc in component_means]\n",
    "\n",
    "mixture = tfd.Mixture(cat=tfd.Categorical(probs=[[1 / 9] * 9] * 2),\n",
    "                      components=components)"
   ]
  },
  {
   "cell_type": "markdown",
   "metadata": {},
   "source": [
    "The log-likelihood of the importance sampler can be lower-bounded by\n",
    "\n",
    "$$\n",
    "\\log p_{SNIS}(x) \\geq \\mathbb{E}_{x_{2:K}} \\log \\left[ \\frac{\\pi(x)w(x)}{\\frac{1}{K}\\left( \\sum_{j=2}^K w(x_j) + w(x) \\right)} \\right ]\n",
    "$$\n",
    "\n",
    "The lower bound is equal to\n",
    "\n",
    "$$\n",
    "\\mathbb{E}_{x_{2:K}}\\left[ \\log\\pi(x) + \\underbrace{U(x)}_{\\log w(x)} + \\log K - \\log \\left\\{\\sum_{j = 2}^K w(x_j) + w(x) \\right\\}\\right]\n",
    "$$"
   ]
  },
  {
   "cell_type": "code",
   "execution_count": 4,
   "metadata": {},
   "outputs": [],
   "source": [
    "hidden = 20\n",
    "\n",
    "# Create SNIS stuff\n",
    "sn = tf.keras.Sequential([\n",
    "        tfl.Dense(units=hidden,\n",
    "                  activation=tf.nn.tanh),\n",
    "        tfl.Dense(units=hidden,\n",
    "                  activation=tf.nn.tanh),\n",
    "        tfl.Dense(units=1)\n",
    "])\n",
    "\n",
    "sd = SNISDistribution(energy_fn=sn,\n",
    "                      prior=tfd.Normal(loc=[0., 0.], scale=1.),\n",
    "                      K=128)"
   ]
  },
  {
   "cell_type": "code",
   "execution_count": 5,
   "metadata": {},
   "outputs": [
    {
     "name": "stdout",
     "output_type": "stream",
     "text": [
      "Restored model from /scratch/gf332/models/relative-entropy-coding/snis-experiments/synthetic/snis/ckpt-195\n"
     ]
    }
   ],
   "source": [
    "save_dir = \"/scratch/gf332/models/relative-entropy-coding/snis-experiments/synthetic/snis/\"\n",
    "\n",
    "ckpt = tf.train.Checkpoint(sd=sd)\n",
    "\n",
    "manager = tf.train.CheckpointManager(ckpt, save_dir, max_to_keep=3)\n",
    "\n",
    "# Initialize the model by passing zeros through it\n",
    "sd.log_prob(tf.zeros([1, 2]))\n",
    "\n",
    "# Restore previous session\n",
    "ckpt.restore(manager.latest_checkpoint)\n",
    "if manager.latest_checkpoint:\n",
    "    print(f\"Restored model from {manager.latest_checkpoint}\")\n",
    "else:\n",
    "    print(\"No trained model found!\")"
   ]
  },
  {
   "cell_type": "code",
   "execution_count": 7,
   "metadata": {},
   "outputs": [
    {
     "data": {
      "image/png": "[encoded data removed]",
      "text/plain": [
       "<Figure size 864x360 with 2 Axes>"
      ]
     },
     "metadata": {
      "needs_background": "light"
     },
     "output_type": "display_data"
    }
   ],
   "source": [
    "side = np.linspace(-2, 2, 100)\n",
    "xs, ys = np.meshgrid(side, side)\n",
    "\n",
    "points = np.vstack((xs.reshape([1, -1]), ys.reshape([1, -1])))\n",
    "points = tf.transpose(tf.cast(points, tf.float32))\n",
    "\n",
    "# Get ground truth plot\n",
    "likelihoods = tf.reduce_prod(mixture.prob(points), axis=1).numpy()\n",
    "\n",
    "# Get predicted plot\n",
    "un_log_probs = tf.reduce_sum(sd.prior.log_prob(points), axis=1, keepdims=True) + sd.energy_fn(points)\n",
    "log_Z = tf.reduce_logsumexp(un_log_probs)\n",
    "\n",
    "log_probs = un_log_probs - log_Z\n",
    "\n",
    "# Plot stuff\n",
    "plt.figure(figsize=(12, 5))\n",
    "plt.tight_layout()\n",
    "plt.subplots_adjust(left=0.05, right=0.95, top=0.95, bottom=0.05, wspace=0.15)\n",
    "\n",
    "plt.subplot(121)\n",
    "plt.title(\"Ground Truth\", fontsize=18)\n",
    "plt.pcolormesh(xs, ys, likelihoods.reshape(xs.shape))\n",
    "plt.axis(\"off\")\n",
    "\n",
    "plt.subplot(122)\n",
    "plt.title(\"SNIS Density estimation\", fontsize=18)\n",
    "plt.pcolormesh(xs, ys, tf.math.exp(log_probs).numpy().reshape(xs.shape))\n",
    "plt.axis(\"off\")\n",
    "\n",
    "plt.show()"
   ]
  },
  {
   "cell_type": "code",
   "execution_count": 21,
   "metadata": {},
   "outputs": [
    {
     "data": {
      "text/plain": [
       "<tf.Tensor: id=1152, shape=(2,), dtype=float32, numpy=array([0.2850343, 0.2850343], dtype=float32)>"
      ]
     },
     "execution_count": 21,
     "metadata": {},
     "output_type": "execute_result"
    }
   ],
   "source": [
    "mixture.log_prob([-1, 1])"
   ]
  },
  {
   "cell_type": "code",
   "execution_count": 30,
   "metadata": {},
   "outputs": [
    {
     "data": {
      "text/plain": [
       "<tf.Tensor: id=1809, shape=(1, 1), dtype=float32, numpy=array([[0.1811924]], dtype=float32)>"
      ]
     },
     "execution_count": 30,
     "metadata": {},
     "output_type": "execute_result"
    }
   ],
   "source": [
    "sd.log_prob_lower_bound([-1., 1.])"
   ]
  }
 ],
 "metadata": {
  "kernelspec": {
   "display_name": "Python 3",
   "language": "python",
   "name": "python3"
  },
  "language_info": {
   "codemirror_mode": {
    "name": "ipython",
    "version": 3
   },
   "file_extension": ".py",
   "mimetype": "text/x-python",
   "name": "python",
   "nbconvert_exporter": "python",
   "pygments_lexer": "ipython3",
   "version": "3.7.6"
  }
 },
 "nbformat": 4,
 "nbformat_minor": 2
}
