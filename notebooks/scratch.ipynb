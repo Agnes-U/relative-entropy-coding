{
 "cells": [
  {
   "cell_type": "code",
   "execution_count": 1,
   "metadata": {},
   "outputs": [],
   "source": [
    "import tensorflow as tf\n",
    "import tensorflow_probability as tfp\n",
    "tfd = tfp.distributions\n",
    "\n",
    "import tensorflow_datasets as tfds\n",
    "\n",
    "import numpy as np\n",
    "\n",
    "import matplotlib.pyplot as plt\n",
    "\n",
    "from tqdm.notebook import trange, tqdm\n",
    "\n",
    "from rec.models.resnet_vae import BidirectionalResNetVAE\n",
    "from rec.models.custom_modules import ReparameterizedConv2D, ReparameterizedConv2DTranspose\n",
    "from rec.models.pixel_cnn import PixelCNNResidualBlock"
   ]
  },
  {
   "cell_type": "code",
   "execution_count": 2,
   "metadata": {},
   "outputs": [],
   "source": [
    "# Taken from https://github.com/tensorflow/tensorflow/issues/31135#issuecomment-516526113\n",
    "# Set CPU as available physical device\n",
    "tf.config.experimental.set_visible_devices([], 'GPU')"
   ]
  },
  {
   "cell_type": "code",
   "execution_count": 3,
   "metadata": {},
   "outputs": [
    {
     "name": "stdout",
     "output_type": "stream",
     "text": [
      "checkpoint\t\t       ckpt-2127.index\r\n",
      "ckpt-2126.data-00000-of-00002  ckpt-2128.data-00000-of-00002\r\n",
      "ckpt-2126.data-00001-of-00002  ckpt-2128.data-00001-of-00002\r\n",
      "ckpt-2126.index\t\t       ckpt-2128.index\r\n",
      "ckpt-2127.data-00000-of-00002  logs\r\n",
      "ckpt-2127.data-00001-of-00002\r\n"
     ]
    }
   ],
   "source": [
    "!ls ../../../models/relative-entropy-coding/imagenet32/resnet_vae/gaussian/blocks_24/beta_1.000_lamb_0.100/"
   ]
  },
  {
   "cell_type": "code",
   "execution_count": 4,
   "metadata": {},
   "outputs": [],
   "source": [
    "model_save_dir = \"../../../models/relative-entropy-coding/imagenet32/resnet_vae/gaussian/blocks_24/beta_1.000_lamb_0.100/\""
   ]
  },
  {
   "cell_type": "code",
   "execution_count": 5,
   "metadata": {},
   "outputs": [
    {
     "name": "stdout",
     "output_type": "stream",
     "text": [
      "Restored model from ../../../models/relative-entropy-coding/imagenet32/resnet_vae/gaussian/blocks_24/beta_1.000_lamb_0.100/ckpt-2128\n"
     ]
    }
   ],
   "source": [
    "model = BidirectionalResNetVAE(use_iaf=False,\n",
    "                               num_res_blocks=24,\n",
    "                               deterministic_filters=160,\n",
    "                               stochastic_filters=32)\n",
    "\n",
    "model(tf.zeros((1, 32, 32, 3)))\n",
    "\n",
    "# -------------------------------------------------------------------------\n",
    "# Create Checkpoints\n",
    "# -------------------------------------------------------------------------\n",
    "ckpt = tf.train.Checkpoint(model=model)\n",
    "\n",
    "manager = tf.train.CheckpointManager(ckpt, model_save_dir, max_to_keep=3)\n",
    "\n",
    "# Restore previous session\n",
    "ckpt.restore(manager.latest_checkpoint)\n",
    "if manager.latest_checkpoint:\n",
    "    print(f\"Restored model from {manager.latest_checkpoint}\")\n",
    "else:\n",
    "    print(\"Initializing model from scratch.\")"
   ]
  },
  {
   "cell_type": "code",
   "execution_count": 10,
   "metadata": {},
   "outputs": [],
   "source": [
    "model.swap_in_ema_variables()"
   ]
  },
  {
   "cell_type": "code",
   "execution_count": 6,
   "metadata": {},
   "outputs": [],
   "source": [
    "ds = tfds.load(\"downsampled_imagenet/32x32\", data_dir=\"/scratch/gf332/datasets/imagenet32\")[\"validation\"]\n",
    "ds = ds.map(lambda x: tf.clip_by_value((tf.cast(x[\"image\"], tf.float32) + 0.5) / 256., 0.0, 1.0) - 0.5)"
   ]
  },
  {
   "cell_type": "code",
   "execution_count": 7,
   "metadata": {},
   "outputs": [],
   "source": [
    "max_test_images = 10000\n",
    "max_batch_size = 100\n",
    "test_images = 300\n",
    "\n",
    "batched_ds = ds.take(test_images).batch(max_batch_size)"
   ]
  },
  {
   "cell_type": "code",
   "execution_count": 11,
   "metadata": {},
   "outputs": [
    {
     "data": {
      "application/vnd.jupyter.widget-view+json": {
       "model_id": "f506b561293047a897a3e3b30d7ba90c",
       "version_major": 2,
       "version_minor": 0
      },
      "text/plain": [
       "HBox(children=(FloatProgress(value=0.0, max=3.0), HTML(value='')))"
      ]
     },
     "metadata": {},
     "output_type": "display_data"
    },
    {
     "name": "stdout",
     "output_type": "stream",
     "text": [
      "\n"
     ]
    }
   ],
   "source": [
    "# Calculate average (negative) ELBO on test dataset\n",
    "neg_elbos = []\n",
    "\n",
    "for img in tqdm(batched_ds.take(test_images), total=test_images // max_batch_size):\n",
    "    res = model(img)\n",
    "    \n",
    "    neg_elbo = -model.log_likelihood + model.kl_divergence(empirical=False, minimum_kl=0.)\n",
    "\n",
    "    neg_elbos.append(neg_elbo)"
   ]
  },
  {
   "cell_type": "code",
   "execution_count": 9,
   "metadata": {},
   "outputs": [
    {
     "name": "stdout",
     "output_type": "stream",
     "text": [
      "tf.Tensor(13.757815, shape=(), dtype=float32) tf.Tensor(4.5859385, shape=(), dtype=float32)\n"
     ]
    }
   ],
   "source": [
    "bpp = tf.reduce_mean(neg_elbos) / (32 * 32 * np.log(2))\n",
    "bppc = bpp / 3\n",
    "\n",
    "print(bpp, bppc)"
   ]
  },
  {
   "cell_type": "code",
   "execution_count": 12,
   "metadata": {},
   "outputs": [
    {
     "name": "stdout",
     "output_type": "stream",
     "text": [
      "tf.Tensor(13.529109, shape=(), dtype=float32) tf.Tensor(4.509703, shape=(), dtype=float32)\n"
     ]
    }
   ],
   "source": [
    "bpp = tf.reduce_mean(neg_elbos) / (32 * 32 * np.log(2))\n",
    "bppc = bpp / 3\n",
    "\n",
    "print(bpp, bppc)"
   ]
  },
  {
   "cell_type": "code",
   "execution_count": 8,
   "metadata": {},
   "outputs": [
    {
     "data": {
      "text/plain": [
       "<tf.Tensor: shape=(), dtype=float32, numpy=-0.016166061>"
      ]
     },
     "execution_count": 8,
     "metadata": {},
     "output_type": "execute_result"
    }
   ],
   "source": [
    "#tf.nn.moments(model.residual_blocks[0].infer_posterior_loc_head.kernel_weights, [0, 1, 3])\n",
    "tf.reduce_min(model._generative_base)"
   ]
  },
  {
   "cell_type": "code",
   "execution_count": 18,
   "metadata": {},
   "outputs": [
    {
     "data": {
      "text/plain": [
       "'lo_True_haha_123_beb_3.1416'"
      ]
     },
     "execution_count": 18,
     "metadata": {},
     "output_type": "execute_result"
    }
   ],
   "source": [
    "snake_flatten = lambda l: [f\"_{item}\" for sublist in l for item in sublist]\n",
    "\n",
    "def print_dict(d):\n",
    "    \n",
    "    items = []\n",
    "    \n",
    "    for k, v in d.items():\n",
    "        items.append(k)\n",
    "        items.append(f\"{v:.4f}\" if type(v) == float else f\"{v}\")\n",
    "        \n",
    "    return '_'.join(items)\n",
    "\n",
    "print_dict({\"lo\": True, \"haha\": 123, \"beb\": np.pi})"
   ]
  },
  {
   "cell_type": "code",
   "execution_count": 80,
   "metadata": {},
   "outputs": [
    {
     "name": "stdout",
     "output_type": "stream",
     "text": [
      "1.0\n",
      "tf.Tensor(1.011839, shape=(), dtype=float32)\n"
     ]
    }
   ],
   "source": [
    "mu_x = 1.\n",
    "mu_y = -2.5\n",
    "\n",
    "scale_x = 1.\n",
    "scale_y = 2.\n",
    "\n",
    "x_samps = tf.random.normal(mean=mu_x, stddev=scale_x, shape=(100000,))\n",
    "y_samps = tf.random.normal(mean=mu_y, stddev=scale_y, shape=(100000,))\n",
    "\n",
    "mu_z = mu_x + mu_y\n",
    "z_samps = x_samps + y_samps\n",
    "\n",
    "emp_mu_x = tf.reduce_mean(x_samps)\n",
    "emp_mu_y = tf.reduce_mean(y_samps)\n",
    "emp_mu_z = tf.reduce_mean(z_samps)\n",
    "\n",
    "cov_xz = mu_x**2 + scale_x**2 - mu_x * (mu_x + mu_y) + mu_x * mu_y\n",
    "print(cov_xz)\n",
    "\n",
    "emp_cov_xz = tf.reduce_mean(z_samps * x_samps) - emp_mu_x * emp_mu_z\n",
    "print(emp_cov_xz)"
   ]
  },
  {
   "cell_type": "code",
   "execution_count": 77,
   "metadata": {},
   "outputs": [
    {
     "data": {
      "text/plain": [
       "<tf.Tensor: shape=(), dtype=float32, numpy=-0.49188495>"
      ]
     },
     "execution_count": 77,
     "metadata": {},
     "output_type": "execute_result"
    }
   ],
   "source": [
    "tf.reduce_mean(x_samps * x_samps) + tf.reduce_mean(x_samps * y_samps)"
   ]
  },
  {
   "cell_type": "code",
   "execution_count": 78,
   "metadata": {},
   "outputs": [
    {
     "data": {
      "text/plain": [
       "<tf.Tensor: shape=(), dtype=float32, numpy=-2.50434>"
      ]
     },
     "execution_count": 78,
     "metadata": {},
     "output_type": "execute_result"
    }
   ],
   "source": [
    "tf.reduce_mean(x_samps * y_samps)"
   ]
  },
  {
   "cell_type": "code",
   "execution_count": 79,
   "metadata": {},
   "outputs": [
    {
     "data": {
      "text/plain": [
       "-2.5"
      ]
     },
     "execution_count": 79,
     "metadata": {},
     "output_type": "execute_result"
    }
   ],
   "source": [
    "mu_x * mu_y"
   ]
  }
 ],
 "metadata": {
  "kernelspec": {
   "display_name": "Python 3",
   "language": "python",
   "name": "python3"
  },
  "language_info": {
   "codemirror_mode": {
    "name": "ipython",
    "version": 3
   },
   "file_extension": ".py",
   "mimetype": "text/x-python",
   "name": "python",
   "nbconvert_exporter": "python",
   "pygments_lexer": "ipython3",
   "version": "3.7.6"
  }
 },
 "nbformat": 4,
 "nbformat_minor": 4
}
