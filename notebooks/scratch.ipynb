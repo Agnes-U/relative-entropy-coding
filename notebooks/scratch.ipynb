{
 "cells": [
  {
   "cell_type": "code",
   "execution_count": 49,
   "metadata": {},
   "outputs": [],
   "source": [
    "import tensorflow as tf\n",
    "import tensorflow_probability as tfp\n",
    "tfd = tfp.distributions\n",
    "\n",
    "import tensorflow_datasets as tfds\n",
    "\n",
    "import numpy as np\n",
    "\n",
    "import matplotlib.pyplot as plt\n",
    "\n",
    "from tqdm.notebook import trange, tqdm\n",
    "\n",
    "from rec.models.resnet_vae import BidirectionalResNetVAE\n",
    "from rec.models.custom_modules import ReparameterizedConv2D, ReparameterizedConv2DTranspose, GDN\n",
    "from rec.models.pixel_cnn import PixelCNNResidualBlock\n",
    "\n",
    "from rec.coding.coder import GaussianCoder\n",
    "from rec.coding.samplers import ImportanceSampler\n",
    "\n",
    "from rec.models.large_resnet_vae import LargeResNetVAE\n",
    "\n",
    "from rec.io.entropy_coding import ArithmeticCoder\n",
    "\n",
    "import glob\n",
    "\n",
    "import struct"
   ]
  },
  {
   "cell_type": "code",
   "execution_count": 2,
   "metadata": {},
   "outputs": [],
   "source": [
    "# Taken from https://github.com/tensorflow/tensorflow/issues/31135#issuecomment-516526113\n",
    "# Set CPU as available physical device\n",
    "tf.config.experimental.set_visible_devices([], 'GPU')"
   ]
  },
  {
   "cell_type": "code",
   "execution_count": 12,
   "metadata": {},
   "outputs": [],
   "source": [
    "dataset_path = \"/scratch/gf332/datasets/clic2019/test\"\n",
    "\n",
    "files = glob.glob(f\"{dataset_path}/*.png\")"
   ]
  },
  {
   "cell_type": "code",
   "execution_count": 14,
   "metadata": {},
   "outputs": [],
   "source": [
    "def read_png(filename):\n",
    "    \"\"\"\n",
    "    Loads a PNG image file. Taken from Balle's implementation\n",
    "    \"\"\"\n",
    "    image_raw = tf.io.read_file(filename)\n",
    "    image = tf.image.decode_image(image_raw, channels=3)\n",
    "    image = tf.cast(image, tf.float32)\n",
    "\n",
    "    return image\n"
   ]
  },
  {
   "cell_type": "code",
   "execution_count": 22,
   "metadata": {},
   "outputs": [
    {
     "data": {
      "text/plain": [
       "(512, 1264, 3)"
      ]
     },
     "execution_count": 22,
     "metadata": {},
     "output_type": "execute_result"
    }
   ],
   "source": [
    "(512, 1264, 3)"
   ]
  },
  {
   "cell_type": "code",
   "execution_count": 31,
   "metadata": {},
   "outputs": [
    {
     "data": {
      "text/plain": [
       "19.0"
      ]
     },
     "execution_count": 31,
     "metadata": {},
     "output_type": "execute_result"
    }
   ],
   "source": [
    "(1264 - (1264 % 64)) / 64"
   ]
  },
  {
   "cell_type": "code",
   "execution_count": 12,
   "metadata": {},
   "outputs": [
    {
     "name": "stdout",
     "output_type": "stream",
     "text": [
      "(1, 2, 3, 4) (1, 2, 3, 4)\n",
      "tf.Tensor(2.3841858e-07, shape=(), dtype=float32)\n",
      "(1, 2, 3, 4) (1, 2, 3, 4)\n",
      "tf.Tensor(0.0, shape=(), dtype=float32)\n"
     ]
    }
   ],
   "source": [
    "x = tf.random.uniform((1, 2, 3, 4), dtype=tf.float32)\n",
    "y = GDN(inverse=False)(x)\n",
    "print(x.shape, y.shape)\n",
    "print(tf.reduce_max(tf.abs(y - x / tf.sqrt(1 + .1 * (x ** 2)))))\n",
    "\n",
    "x = tf.random.uniform((1, 2, 3, 4), dtype=tf.float32)\n",
    "y = GDN(inverse=True)(x)\n",
    "print(x.shape, y.shape)\n",
    "print(tf.reduce_max(tf.abs(y - x * tf.sqrt(1 + .1 * (x ** 2)))))"
   ]
  },
  {
   "cell_type": "code",
   "execution_count": 33,
   "metadata": {},
   "outputs": [
    {
     "name": "stdout",
     "output_type": "stream",
     "text": [
      "relative-entropy-coding\r\n"
     ]
    }
   ],
   "source": [
    "!ls /scratch/gf332/models/relative-entropy-coding/clic2019/large_resnet_vae/beta_0.500_lamb_0.100_laplace_target_bpp_0.300/clic2019/reconstructions/thong-vo-428.png_block_indices.npy"
   ]
  },
  {
   "cell_type": "code",
   "execution_count": 34,
   "metadata": {},
   "outputs": [],
   "source": [
    "block_indices_file = \"/scratch/gf332/models/relative-entropy-coding/\" \\\n",
    "                     \"clic2019/large_resnet_vae/beta_0.500_lamb_0.100_laplace_target_bpp_0.300/\"\\\n",
    "                     \"clic2019/reconstructions/thong-vo-428.png_block_indices.npy\""
   ]
  },
  {
   "cell_type": "code",
   "execution_count": 35,
   "metadata": {},
   "outputs": [],
   "source": [
    "block_indices = np.load(block_indices_file, allow_pickle=True)\n",
    "\n",
    "block_sizes = list(map(len, block_indices))\n",
    "num_aux_vars = [list(map(len, block)) for block in block_indices]\n",
    "\n",
    "block0 = np.concatenate(block_indices[0] + [[-1]], axis=0) + 1\n",
    "block1 = np.concatenate(block_indices[1] + [[-1]], axis=0) + 1"
   ]
  },
  {
   "cell_type": "code",
   "execution_count": 36,
   "metadata": {},
   "outputs": [
    {
     "data": {
      "text/plain": [
       "array([  1, 248, 249, 269, 272, 235, 229, 252, 245, 227, 263, 253, 259,\n",
       "       247, 248, 242, 240, 234, 227, 272, 262])"
      ]
     },
     "execution_count": 36,
     "metadata": {},
     "output_type": "execute_result"
    }
   ],
   "source": [
    "uniques, counts = np.unique(block0, return_counts=True)\n",
    "counts"
   ]
  },
  {
   "cell_type": "code",
   "execution_count": 37,
   "metadata": {},
   "outputs": [
    {
     "name": "stderr",
     "output_type": "stream",
     "text": [
      "100%|██████████| 21/21 [00:00<00:00, 41043.98it/s]"
     ]
    },
    {
     "name": "stdout",
     "output_type": "stream",
     "text": [
      "Building tree\n",
      "Depth of symbol tree: 6\n"
     ]
    },
    {
     "name": "stderr",
     "output_type": "stream",
     "text": [
      "\n"
     ]
    }
   ],
   "source": [
    "ac = ArithmeticCoder(counts, precision=32)"
   ]
  },
  {
   "cell_type": "code",
   "execution_count": 38,
   "metadata": {},
   "outputs": [
    {
     "name": "stderr",
     "output_type": "stream",
     "text": [
      "100%|██████████| 4974/4974 [00:00<00:00, 300058.51it/s]\n"
     ]
    }
   ],
   "source": [
    "code = ac.encode(block0)\n",
    "decoded = ac.decode_fast(code)"
   ]
  },
  {
   "cell_type": "code",
   "execution_count": 39,
   "metadata": {},
   "outputs": [
    {
     "data": {
      "text/plain": [
       "array([ True,  True,  True, ...,  True,  True,  True])"
      ]
     },
     "execution_count": 39,
     "metadata": {},
     "output_type": "execute_result"
    }
   ],
   "source": [
    "np.array(decoded) == block0"
   ]
  },
  {
   "cell_type": "code",
   "execution_count": 9,
   "metadata": {},
   "outputs": [
    {
     "data": {
      "image/png": "[encoded data removed]",
      "text/plain": [
       "<Figure size 432x288 with 1 Axes>"
      ]
     },
     "metadata": {
      "needs_background": "light"
     },
     "output_type": "display_data"
    }
   ],
   "source": [
    "num_aux_vars = list(map(len, block_indices[0]))\n",
    "\n",
    "plt.hist(num_aux_vars, bins=30)\n",
    "\n",
    "num_aux_vars = list(map(len, block_indices[1]))\n",
    "\n",
    "plt.hist(num_aux_vars, bins=30)\n",
    "plt.show()"
   ]
  },
  {
   "cell_type": "code",
   "execution_count": 70,
   "metadata": {},
   "outputs": [
    {
     "data": {
      "text/plain": [
       "[3]"
      ]
     },
     "execution_count": 70,
     "metadata": {},
     "output_type": "execute_result"
    }
   ],
   "source": [
    "[1, 2, 3][2:10]"
   ]
  },
  {
   "cell_type": "code",
   "execution_count": 65,
   "metadata": {},
   "outputs": [
    {
     "data": {
      "text/plain": [
       "b'\\x016\\xee\\xeb\\xd5\\xed\\xdfR\\xe1i\\x85j\\xd5F\\xdf\\'\\xe0^\\xc6\\x04d\\xca\\x9e\\x02\\x86\\xd0\\xbe\\x89\\xf4J\\xd4y\\xe7%\\xd8\\xef\\x03\\x8a\\xd4\\xb3\\xa0)\\xd9\\xf56`\\xbc\\xbc\\xe8J`D\\x08#\\x8c\\xd7\\xf0_\\xfb\\xffPWW-\\xc3\\x19\\x95\\xd8z\\x9a\\xbc\\xf6.\\xf4\\xa9\\xbft\\x0c\\x15\\xfc\\x93\\xdd<u\\x10\\xd1piR<\\xbb;\\x9a\\xce\\xc3^\\xcf\\xc9A\\xfe\\x1b&\\x90\\xa8\\xa5\\xde\\x1f\\xbby\\x18N\\xfb$Y\\x18\\x18Ka\\xa8&5\\x8f<.\\xb4P\\xa9\\x1d\\x7f\\xfe\"\\xa6\\xe9h\\x0bs\\x84M\\xda\\xaf\\xd3\\xe4K\\xf0k5\\xbe\\x9f\\xe7m\\xca9My@\\x05+#\\xbd\\x9er?\\x1a\\xd0\\xc6\\xcb\\xe43\\xbdIL=0\\t3\\x9b\\x06\\xec\\x86\\x83M\\xf0rh}T\\xcf\\xe6(mhm2\\x10\\x83\\xf2\\xcbm\\xac\\xfd\\xacH\\xcd\\t\\xd6\\x98\\xa60\\x05\\x90\\xf4\\xb7\\xbd\\xa7\\x9dq\\xff\\xe6\\x98e\\xaa\\x91\\x9c\\xc5\\x16BW4e`\\xdf\\xe7d\\xba\\x9d\\xfcU\\xfdHS*\\x93b\\x8c\\xc6\\xfe\\xa5\\x1b\\xcer\\x16|\\xb9=\\xef\\xde\\x15,Y\\x9c~\\xbb\\xf8VVxs0\\xd1\\x81\\x0b\\x06l\\x83\\xb3he:\\xb1\\xda\\xf1\\xe4\\x89\\x08\\x8dy\\xca\\x91\\x85m\\xd4\\x11\\x8e\\n\\x87\\x135\\xb9\\x0fRP\\x02\\x89\\x89\\x8at\\x92\\xccT\\xb7\\x88Oxy,\\x1d\\x11\\x00\\xb6\\x05\\x10\\x0f\\xa40\\x16K\\x05\\x13\\x94\\x14{*\\xf2z\\xe5&\\x05\\x84v\\x11\\x1fQ\\xc3P\\x0f\\xcd\\xbf\\xfb\\xbf\\x87\\xec\\xbd\\x7f\\x8e\\r\\x94\\xa9\\xa1@\\'\\xe19N\\x04$0\\xc6O\\x0e\\xb4\\x94\\xc5P+D$\\x9f\\xf0G\\xf8<\\xfa\\x861\\x91\\xb1\\xfb\"(\\xd4hJ#\"-,\\xbb\\xe1\\x91\\x8a\\xe6\\xd1\\x08f\\xdf\\xd2\\xd1@}\\xb0),\\x9f(\\' \\xbdM\\xcd=\\xa0E\\xc6< \\xc8\\xd3\\x80\\xf7\\xe3L2N\\x1e\\xa0[d\\x93\\x1f<\\x9c:]Ra\\xe3\\xb9u\\xb65\\xd1\\xc3U7\\x89\\xdc\\xf4\\xa6\\x9c(\\xdf\\xe6\\xc3\\x82\\x87\\x9c\\xd6\\x85\\x97\\x89 \\x96{\\xae\\xc2\\x0b\\xe5\\xe6^\\t\\x97\\x9ef\\xe3+\\xb0\\xd3\\x8ax]\\xfa\\x10\\xc1\\xe8:\\xf7\\xef\\xcfO\\xba\\xc4\\x7fg*%N\\xb2\\x98\\x85\\xb8\\xd0\\x8b\\x8dj\\xed\\x92\\xf4\\xad7\\xdf^\\xe1\\xd5B\\xf0\\x0f[\\xd6\\x05\\xab\\x88\\x83\\xf5\\xba\\xde\\x0c_\\xe7\\x12 \\xc2\\x9ft\\xe4]\\xbc\\xf8ce\\xdfRt[\\xc6\\xa1\\n^\\xe2\\xa8\\xb7\\xff\\x03\\xc5\\xbdF\\xa8\\xbc\\x90wEV,i\\x19\\x1bW\\x91w6Q\\xcc\\xf3aw\\x8ft=\\xed@Q#\\xa2j\\xfd\\x1a\\x0ew\\xa7-\\xd6\\x1a\\xd8\\xe8O1\\x9e*\\xcf\\xa0\\x16x\\xa8\\xe6\\x93X\\xe3\\xfd\\xab\\x819F\\x91\\x05\\xda+\\xb5\\xd5Swo\\xf4\\x05\\xb22\\xc8\\xe7\\x08?\\x9b\\x99\\xbd\\x7f\\xd3\\xf9R\\xbf.\\x92\\xa2\\x91(sl\\x19\\x19\\x06\\'9pK\\xdd\\xda\\xd5GH\\x18#-\\xc9\\x1f\\xa1I\\x08\\xe8\\'6\\xcb\\x05\\xf3k\\x98\\x9b\\x1c&\\xe2,<\\xa9\\x8d\\x01\\xa6\\xd0\\xcb\\xfd:d%2\\xaaF3\\xcf^k\\xbd\\xf3D\\xd9_\\xdb\\xbaBt\\xabDQ\\xc9^\\xd4\\xe9I\\xd9\\xce\\xfc\\xdc\\xab:\\xb4\\x98-\\xb77\\r\\x8f\\xe5+\\x8f\\x197\\xc3vH\\xef\\xa9B\\x19k$\\xdc\\xdd\\x15\\xd75\\xdf\\xe9&v\\x88\\xdb\\xb1\\xfc\\xa3W\\xfe\\x1f\\xef\\x86\\xf9U\\x1a\\xd1\\x94\\xfd\\x05\\xee~G\\xd6\\x02.\\xd3\\x1a~\\xd8\\x85\\xd4\\xa7\\xd9e\\x1a\\xe3H\\xc0?\\x9c0L&G\\xf8\\x82L[E\\xba\\x9f\\x86\\xa4\\xc7\\xea\\x1c\\x15\\xbeD.\\xbd\\xc1\\x04\\x7f*2i\\xd2\\x86\\xc4\\x18u\\x97\\xd8\\xfd\\x84v\\x1b\\xa8b\\x94O0=\\xde:XE\\xbd\\xcb\\x1bi\\xc8b\\xdc\\t\\x15\\x1cV\\x82ob\\xff\\xfd\\xb3\\xac\\tm\\xd4\\x92qCsu\\x0f:9h>\\xe1\\x874/\\xdbt\\xd8X\\xe4.o\\x8e\\x88e\\x950\\xab\\xeb$\\xa1\\x01\\xc3l}r5p\\x81r\\x19\\x8a\\x1a\\\\\\xc7r\\xab\\x01\\x13\\x936x\\xda\\x86\\xdd\\x8f\\r\\xfaNB\\xc2\\x05\\x93\\x1a\\xa8\\xf8~\\xc0\\xd5\\xc4S\\xc5Q\\x11\\n\\x8e\\x01\\xfd\\xcc\\xb3=_6\\xf0)H\\xdf\\xaf)%!&\\xb7\\xb8\\xf7\\x90\\xd3\\xe2\\xd2\\x9f]\\xec*\\xa9\\xc2.\\xfd\\x19\\x00p\\x9c3\\x04\\n\\x1d\\xe2\\x83\\x1a\\x0bu\\x07\\xb3\\xdc\\xc2\\xafQ\\x00\\xe7\\xf1d\\x0e\\x82\\x95\\xc5\\xb6\\'z\\xdeZ\\x16\\x92-\\xc6\"y\\xd0\\x16\\x95\\xde\\xde\"\\x9b\\xa1\\xf6\\xac\\x12\\xe4\\xef\\xf6\\xa2N\\x8d\\x03\\x97\\xe4F\\x8d\\xf0\\xfa\\xad/Ph\\xd1\\xd0\\x8f\\x05\\xe6\\x85\\xe7N\\xc0\\xb9\\x05\\xfbFkTJ\\xb5\\x85\\xaa\\n\\xfb*\\xb9\\x11\\x86gu\\x8b\\x03wtbq\\x84\\xbd_\\x89\\xbdD\\x05!\\x89t\\xdd?\\xcf\\x88\\xc2\\x04\\xc1\\xddE\\xee\\xcf\\x91\\x07In\\x7fX\\xbd\\x90\\x97r\\xfb`\\xeeb\"\\xef\\xee|\\xe0\\'j\\x9d\\xa7:\\xb9\\x04\\xf1=Km\\xe3\\x83\\xb9MM\\x94k\\xdf\\x15\\xecC\\xcfL\\xfa\\xee_\\nZ\\x84\\xbb\\x0f\\xf6\\xe0X\\x0f\\xe8\\x15\\x9f!%0\\r\\x10\\x17{\\xc2IY\\xfd\\xb40\\x7f\\x0e\\x0e\\xbb\\x10CXa\\x9c\\x15FI\\n\\xdd\\xdc\\x9c\\xdf\\xce\\xf6\\xe7D5\\xa0\\x19%\\xa5v~\\x80\\xce@]9xI\\x95\\xe0p\\x97\\x92.\\x08\\xa5\\xd8\\xb1;h>\\x135\\x1a\\xec\\x9c\\xd9\\x13\\xf0\\xb4)\\xc8\\xcd\\xbbWR\\x1e\\x0cA\\xad\\xad\\xcd\\x95\\xc0\\xca:\\xc0\\x13\\x14^\\x8c\\x0c\\t\\xa6X\\xef\\x1fp|\\xb8\\x88\\x05y\\xc4\\xd7:\\x11\\x8c>Jj\\x7f\\x14\\x81\\x00\\x89G,4w\\xd9\\xed\\x1c\\xecd\\x9c\\xf3]\\xc9\\xdf\\xf8\\x8do\\xe3H\\xe2\\xe4\\xde\\x1b\\x07\\xad\\x13\\x1e\\xb4\\x93\\x16\\x8bI\\xbb[\\xc5r\\xdb*\\x91\\xe8\\xc4U\\xe2W;\\xe3\\xb3N\\x8e\\xdc\\x0b\\\\\\x0f\\x92\\x8af\\xa37\\x91V\\xb4\\xaf\\xce\\'\\x19\\xeb\\xba*\\xcf\\x83D\\xd2\\xfe7\\x05\\xb7\\x07\\xb4!\\x91\\xbdT\\x9e\\xbd89z\\xf5\\xca\\x17\\xed\\xdc\\\\NRh\\x07\\x0fsn6[K\\xa4\\xd8\\x95\\xbf\\x84\\xf8oK:\\xc9\\xc6\\xbc_|\\xf3\\xca\\x8c\\x80\\x85\\xa5 \\xb1\\x18!\\xbf=\\x9b$\\x1f\\xfb\\xff\\xddi\\x8c\\xc8\\xfc\\x88ET\\x8a\\x05`\\xb8\\x83\\x15\\x9d\\xa0!\\xe0(\\x14\\xe4\\xa1\\x13\\xdc\\xe5F\\xae6^\\xd4\\xaa\\x02\\xd1\\xd6\\xf2\\xd5\\xaf\\xe5\\xd6\\xff\\xf5\\xa2A\\x8a\\xb1(\\x92\\n{\\xd9\\xba\\xa0\\x00\\x80Se.\\xa5\\x8d\\xec\\x9dL\\xd8\\x96)\\x8e\\xba\\n\\xd2\\x84\\xeca.lL\\'(/\\xcc\\xa3\\xde]\\x84G\\x92c\\xe9\\x8f\\xce\\xabj\\xee\\x0cA\\xc3\\x81\\xb3_\\x87\\x15\\xf4\\x0e\\x82\\xf5\\x13jg\\x7f\\xfbE\\xa3\\xbc\\x0e\\x1aH1\\x9b\\xc4!\\x15e8)\\x8b\\xe7\\xd3\\x99\\x82-\\xbf/E\\xd28\\xbf\\xb8i\\\\\\xe4\\xe6\\x9b\\x8a\\x06LKhX\\xa7\\xb9\\x1c\\xa4%\\xfb\\xd0\\xa4jO\\xbds\\xd9-G\\xf9a\\x93\\r\\xd1 N\\x90\\xfb\\x0e\\xd4qn\\xfd\\xf8\\x9bI\\xac\\xca4{\\x19m\\r\\xea\\xdd(\\n\\x15\\xef\\x90\\xc7\\xca\\'\\x83\\xf4a;i\\x9a<\\xe8\\x144;P\\x9d|\\xbd\\xf5\\xa1w\\xcb\\xb5-F\\xa7\\x92\\xdekR@\\xc7\\xa3\\x8f\\xbbCu\\xff\\x9c\\xa2\\xd3X\"\\xae\\xce$\\xd9\\xdb\\xa9\\xad\\xa1\\xb6n2<w\\x88Xb`\\x95\\x9e\\x12\\xfb\\xe8\"\\xf6\\x19N=\\x07H\\xbdl!\\xee\\x19N\\x01\\xa44\\xfb\\x8es\\x16\\xfbp\\xd6\\xaa\\xe1fC{lv\\xb0U\\xf6\\xcc\\x8d\\xbc6\\x94)\\xc5Lt\\xafD\\xb5\\xcb\\xfcB\\x85\\xea3h\\xe7r\\xde\\xb7\\xd9\\xd0\\x14\\xbf05\\x18\\xea(l1\\x8d\\x15\\x93\\xf5\\x94\\xb1s\\x8d\\\\ 1q2\\xc1\\x190ZY~Z~\\xcc\\xd4\\xd1\\x9c\\xeaz\\r\\x03s\\x91\\x1fD|V5\\x95\\x16j\\xc4\\x9a\\xb0C.\\x98%\\x1fH\\x14E\\xdeuI\\xd2d\\xf1\\xab\\x84\\xd3\\x8b\\xe2\\xe9\\x0c\\x1a\\xc4\\xa9\\xa7\\r\\xa0\\x18\\xfe\\x82\\xce,\\x8d\\xef\\xc7d*\\xbd\\x112\\xc4n\\t\\x91$]\\x99\\x15\\x99\\xd6\\x13*\\xdf\\'e\\x80\\xb5\\x0f\\x03\\xf7\\xecM{\\xa5\\x16\\x11\\xd8\\x1eG;\\n<\\xa8\\n\\x11\\xaf[\\xb4\\xaa\\x18\\xc2\\xeb^\\xbe\\xd6!7\\xd1Y+\\x9dU2 \\x03C\\xb7c&Dg\\xcf\\x84\\xac\\x83b\\x8e\\x97\\xe8E\\x94\\xa8P\\xb2\\xab\\xec\\x9b\\x9b\\xe8\\xf8;\\xa2\\xe8\\xae\\xb3;\\xa4\\xf4\\xcbebO\\xb39+\\xbc\\xc1\\n\\x89\\xb44%;\\xe1\\x94\\xb9X$#\\xc5\\xad\\xcb\\xc5\\x9e\\xf99&\\xff\\xbe\\xe4\\xcf\\x99\\x0c\\xf9nR\\x96\\x1b(R\\x05M\\xf6\\xb1\\x03lh!#\\xceu]]KhR\\xa0\\xeb\\xb8nt\\xe6\\x03\\'\\xa9\\xcc\\x00\\xd8\\xf3g\\t5\\xe7\\xc0S\\x10<\\xd7\\xbf|\\x0fw\\xca\\x80\\xa4\\x03\\xf3\\xf5Ha\\xf9:=\\xc0\\x18\\x8a\\x17\\xa8\\x07\\xdd\\x08\\t\\xf8\\xacsI\\xe8\\xf7d\\x04*^g*X\\x96\\xb1\\r\\xdf\\x01It/\\xadW\\x94\\\\\\t8\\xb4\\xc9\\xe7if7\\xaf\\xb6\\xf3\\xb4\\x83Q\\xc5V\\xde\\\\<nD\\x80\\x9e\\xe4\\xf4m\\xff\\xc1\\x8bQ\\x88r\\x8c\\xdcFK\\xc23\\xf6(2\\x899\\xc7\\xe2^\\x0e\\xeen@\\xca\\x07%\\x1f\\x82\\xf2\\xe8\\xa9\\xcd\\xb8eQ\\x9b\\xd8{)\\xc8\\x0b\\x17\\xeeP{(@{\\xf0\\xc4\\xfe\\xad\\xe9\\x1a[\\xfdi\\x92vN\\x16R\\xaf;\\xf8\\xa9\\xff\\x81w\\xf2\\xad\\xa7;\\x9e\\xe4?+\\x9f\\xbe\\xba\\x88\\x1a}\\xae\\x12\\x14Kj\\xc4\\xd4\\xe6\\x18R\\xae0\\x1a0\\xaa<\\x8d\\xf0{\\xcf\\x85\\xb7H\\xa3\\xbd\\xa02\\x04Pn\\xe6\\xb7\\x99#\\x8a\\xfd\\xf4n\\xbc\\xfc\\xe8\\xdaV\\xb1Q\\x87H\\xa3eG\\x8b\\xe7\\xc8 \\xeeD\\xc7\\xf5\\xcah\\xa3\\x0fB{\\xb4\\x07\\x9f-\\x97[\\xb3]\\x99\\x91\\xad\\xc6,CW\\xcc\\xf0]-@K\\x82\\x9b\\x8a\\xe4\\xae\\xbd*\\x14\\xe3\\x12\\x05<yX+\\xce\\x83\\xf3Hj\\x97\\x13\\x8e*\\xacU7bh\\x1e\\x82\\xbf\\xd3\\xd1\\x911,\\xb2\\xc9Ei\\x12\\xe5\\xe6\\x97w)\\xed\\x06\\xaa\\xf6\\xe9\\x98\\xaa\\x8d0\\xd0\\x8a\\xb1\\xcc\\xe6\\x94\\xc2]p\\xa9^\\x881\\xc53\\x13\\x9e\\xa1\\xc8\\xa8\\xe3\\xab\\'A\\xd7#\\n\\x97G\\xe1R:Ve\\xa2\\x01\\x19uI\\xa4JQ>\\\\Z\\xc1\\xdfP7P|f\\xf2s</k\\'\\x9aY\\x1b<6\\x06|\\xd2p\\x06\\x0cqAq\\xd2nt]\\x87\\xc6\\xf5\\xc3\\x04c\\xca\\x03\\x87\\xb1\\xf5\\x84\\x02\\xc6Gf\\xe4h\\xc5\\xb3RI\\x80\\x07\\t\\xed\\xea\\t\\x0b\\xac54J&\\xc3C\\xd60\\xec\\x9f\\xf5D\\x144\\x8b?\\t\\xd0\\xd7\\xe7\\xa5)\\\\\\xa7\\x0e?z\\x80\\xa7\\xe1\\x1aZ\\xfb\\x88Ss^\\x12\\xad2j\\xad\\xac\\x0b\\xb7\\xd9\\xbd\\x1d\\xf8\\xca\\x94\\xa4\\x8c)h\\x96\\x91\\xd5#F{\\xadn\\x9f%\\xeb}\\x03i\\t:TgX1P\\xd3\\xda\\xd9M\\xa7x\\x05\\xecW\\x06\\r\\xd0\\xe6EY\\x90]R,\\xb3\\x1f[\\x99 \\xf7e\\x95\\x06\\x13+\\xb7\\xbb4\\xd3\\\\9\\x89V[@\\x9a\\xbb\\xdf{\\x1e\\xb5\\xfd\\xe01\\x1d\\xcf{\\xd4?q8uK\\xe9y\\x1a>\\xf2\\xa0\\xa7,\\x12\\x0f\\xb5z\\xee\\xb5\\x18\\xc6%\\xf6&\\xa0J\\x9e\\xdcN\\xed\\'\\x13O\\xf5\\x13\\x95\\xe0\\xf8\\xc5\\xeayxf9_\\x01E\\xdb\\x95\\xa2\\xc1\\x82@\\x05u\\xd2\\xc5\\xa1\\x98\\xbb3\\xc2L\\x0c\\xfc\\xbc\\xaf\\'\\x1dIBFi\\xdf%\\xa7\\x17K.\\x9bo\\xa43\\xbf#\\x9d\\xe9af\\xb1>\\x00\\x05\\xd1\\x0cm4\\xeb\\xa2DX\\xf9<\\xced\\xf1\\xfd\\xa3\\t\\x99z\\xfa\\x1d\\xde\\xa0\\xbcy\\x14\\xd7\\x0f\\x8d\\xdc\\x9c\\xa8^\\x02wo|\\xb2\\x03\\xb2\\x1e}q\\xf4\\xfe\\xa9Q7\\xd6B<\\xed}^t\\x10p\\xa1\\xb9\\x02P#\\xcc/\\xbc\\xeb6\\xd0\\x03\\x90\\x97N~\\xe2nD\\xf4\\x17\\x85P\\xa0+\\xd7r_61\\x9f'"
      ]
     },
     "execution_count": 65,
     "metadata": {},
     "output_type": "execute_result"
    }
   ],
   "source": [
    "code = ''.join(code)\n",
    "int_code = int(code, 2)\n",
    "\n",
    "byte_code = int_code.to_bytes(length=len(code) // 8 + 1, byteorder='big')\n",
    "\n",
    "int_code_ = int.from_bytes(byte_code, byteorder='big')"
   ]
  },
  {
   "cell_type": "code",
   "execution_count": 40,
   "metadata": {},
   "outputs": [
    {
     "data": {
      "image/png": "[encoded data removed]",
      "text/plain": [
       "<Figure size 432x288 with 1 Axes>"
      ]
     },
     "metadata": {
      "needs_background": "light"
     },
     "output_type": "display_data"
    }
   ],
   "source": [
    "num_aux_vars = list(map(len, block_indices[0]))\n",
    "\n",
    "plt.hist(num_aux_vars, bins=30)\n",
    "\n",
    "num_aux_vars = list(map(len, block_indices[1]))\n",
    "\n",
    "plt.hist(num_aux_vars, bins=30)\n",
    "plt.show()"
   ]
  },
  {
   "cell_type": "code",
   "execution_count": 44,
   "metadata": {},
   "outputs": [
    {
     "data": {
      "image/png": "[encoded data removed]",
      "text/plain": [
       "<Figure size 432x288 with 1 Axes>"
      ]
     },
     "metadata": {
      "needs_background": "light"
     },
     "output_type": "display_data"
    }
   ],
   "source": [
    "indices = np.concatenate(block_indices[1], axis=0)\n",
    "\n",
    "plt.hist(indices, bins=20)\n",
    "plt.show()"
   ]
  },
  {
   "cell_type": "code",
   "execution_count": 48,
   "metadata": {},
   "outputs": [
    {
     "data": {
      "text/plain": [
       "array([ 0,  1,  2,  3,  4,  5,  6,  7,  8,  9, 10, 11, 12, 13, 14, 15, 16,\n",
       "       17, 18, 19], dtype=int32)"
      ]
     },
     "execution_count": 48,
     "metadata": {},
     "output_type": "execute_result"
    }
   ],
   "source": [
    "np.unique(indices)"
   ]
  },
  {
   "cell_type": "code",
   "execution_count": 3,
   "metadata": {},
   "outputs": [
    {
     "name": "stdout",
     "output_type": "stream",
     "text": [
      "checkpoint\t\t       ckpt-2127.index\r\n",
      "ckpt-2126.data-00000-of-00002  ckpt-2128.data-00000-of-00002\r\n",
      "ckpt-2126.data-00001-of-00002  ckpt-2128.data-00001-of-00002\r\n",
      "ckpt-2126.index\t\t       ckpt-2128.index\r\n",
      "ckpt-2127.data-00000-of-00002  logs\r\n",
      "ckpt-2127.data-00001-of-00002\r\n"
     ]
    }
   ],
   "source": [
    "!ls ../../../models/relative-entropy-coding/imagenet32/resnet_vae/gaussian/blocks_24/beta_1.000_lamb_0.100/"
   ]
  },
  {
   "cell_type": "code",
   "execution_count": 4,
   "metadata": {},
   "outputs": [],
   "source": [
    "model_save_dir = \"../../../models/relative-entropy-coding/imagenet32/resnet_vae/gaussian/blocks_24/beta_1.000_lamb_0.100/\""
   ]
  },
  {
   "cell_type": "code",
   "execution_count": 5,
   "metadata": {},
   "outputs": [
    {
     "name": "stdout",
     "output_type": "stream",
     "text": [
      "Restored model from ../../../models/relative-entropy-coding/imagenet32/resnet_vae/gaussian/blocks_24/beta_1.000_lamb_0.100/ckpt-2128\n"
     ]
    }
   ],
   "source": [
    "model = BidirectionalResNetVAE(use_iaf=False,\n",
    "                               num_res_blocks=24,\n",
    "                               deterministic_filters=160,\n",
    "                               stochastic_filters=32)\n",
    "\n",
    "model(tf.zeros((1, 32, 32, 3)))\n",
    "\n",
    "# -------------------------------------------------------------------------\n",
    "# Create Checkpoints\n",
    "# -------------------------------------------------------------------------\n",
    "ckpt = tf.train.Checkpoint(model=model)\n",
    "\n",
    "manager = tf.train.CheckpointManager(ckpt, model_save_dir, max_to_keep=3)\n",
    "\n",
    "# Restore previous session\n",
    "ckpt.restore(manager.latest_checkpoint)\n",
    "if manager.latest_checkpoint:\n",
    "    print(f\"Restored model from {manager.latest_checkpoint}\")\n",
    "else:\n",
    "    print(\"Initializing model from scratch.\")"
   ]
  },
  {
   "cell_type": "code",
   "execution_count": 10,
   "metadata": {},
   "outputs": [],
   "source": [
    "model.swap_in_ema_variables()"
   ]
  },
  {
   "cell_type": "code",
   "execution_count": 6,
   "metadata": {},
   "outputs": [],
   "source": [
    "ds = tfds.load(\"downsampled_imagenet/32x32\", data_dir=\"/scratch/gf332/datasets/imagenet32\")[\"validation\"]\n",
    "ds = ds.map(lambda x: tf.clip_by_value((tf.cast(x[\"image\"], tf.float32) + 0.5) / 256., 0.0, 1.0) - 0.5)"
   ]
  },
  {
   "cell_type": "code",
   "execution_count": 7,
   "metadata": {},
   "outputs": [],
   "source": [
    "max_test_images = 10000\n",
    "max_batch_size = 100\n",
    "test_images = 300\n",
    "\n",
    "batched_ds = ds.take(test_images).batch(max_batch_size)"
   ]
  },
  {
   "cell_type": "code",
   "execution_count": 11,
   "metadata": {},
   "outputs": [
    {
     "data": {
      "application/vnd.jupyter.widget-view+json": {
       "model_id": "f506b561293047a897a3e3b30d7ba90c",
       "version_major": 2,
       "version_minor": 0
      },
      "text/plain": [
       "HBox(children=(FloatProgress(value=0.0, max=3.0), HTML(value='')))"
      ]
     },
     "metadata": {},
     "output_type": "display_data"
    },
    {
     "name": "stdout",
     "output_type": "stream",
     "text": [
      "\n"
     ]
    }
   ],
   "source": [
    "# Calculate average (negative) ELBO on test dataset\n",
    "neg_elbos = []\n",
    "\n",
    "for img in tqdm(batched_ds.take(test_images), total=test_images // max_batch_size):\n",
    "    res = model(img)\n",
    "    \n",
    "    neg_elbo = -model.log_likelihood + model.kl_divergence(empirical=False, minimum_kl=0.)\n",
    "\n",
    "    neg_elbos.append(neg_elbo)"
   ]
  },
  {
   "cell_type": "code",
   "execution_count": 9,
   "metadata": {},
   "outputs": [
    {
     "name": "stdout",
     "output_type": "stream",
     "text": [
      "tf.Tensor(13.757815, shape=(), dtype=float32) tf.Tensor(4.5859385, shape=(), dtype=float32)\n"
     ]
    }
   ],
   "source": [
    "bpp = tf.reduce_mean(neg_elbos) / (32 * 32 * np.log(2))\n",
    "bppc = bpp / 3\n",
    "\n",
    "print(bpp, bppc)"
   ]
  },
  {
   "cell_type": "code",
   "execution_count": 12,
   "metadata": {},
   "outputs": [
    {
     "name": "stdout",
     "output_type": "stream",
     "text": [
      "tf.Tensor(13.529109, shape=(), dtype=float32) tf.Tensor(4.509703, shape=(), dtype=float32)\n"
     ]
    }
   ],
   "source": [
    "bpp = tf.reduce_mean(neg_elbos) / (32 * 32 * np.log(2))\n",
    "bppc = bpp / 3\n",
    "\n",
    "print(bpp, bppc)"
   ]
  },
  {
   "cell_type": "code",
   "execution_count": 6,
   "metadata": {},
   "outputs": [
    {
     "name": "stdout",
     "output_type": "stream",
     "text": [
      "Dimensions: 500\n",
      "KL divergence: 283.4400634765625\n",
      "Dimensions: 500\n",
      "KL divergence: 291.41802978515625\n"
     ]
    }
   ],
   "source": [
    "def get_t_p_gauss(filename, dims=1000):\n",
    "    t_mean = np.tile(np.load(filename + 'post_loc.npy')[0], 1 + dims // 50)[:dims]\n",
    "    t_scale = np.tile(np.load(filename + 'post_scale.npy')[0], 1 + dims // 50)[:dims]\n",
    "    p_mean = np.tile(np.load(filename + 'prior_loc.npy'), 1 + dims // 50)[:dims]\n",
    "    p_scale = np.tile(np.load(filename + 'prior_scale.npy'), 1 + dims // 50)[:dims]\n",
    "\n",
    "    ndims = p_mean.shape[0]\n",
    "    print('Dimensions: {}'.format(ndims))\n",
    "    p = tfp.distributions.Normal(loc=p_mean, scale=p_scale)\n",
    "    t = tfp.distributions.Normal(loc=t_mean, scale=t_scale)\n",
    "    print('KL divergence: {}'.format(tf.reduce_sum(tfp.distributions.kl_divergence(t, p))))\n",
    "    return t, p\n",
    "\n",
    "mnist_path = '/scratch/gf332/CWOQ/relative-entropy-coding/experimental_data/data_distributions/mnist/beta_1_latents_50/test/img_{}/'\n",
    "\n",
    "t_list = []\n",
    "p_list = []\n",
    "for i in range(2):\n",
    "    t, p = get_t_p_gauss(filename=mnist_path.format(i), dims=500)\n",
    "    t_list.append(t)\n",
    "    p_list.append(p)\n",
    "\n",
    "target_kl = 10."
   ]
  },
  {
   "cell_type": "code",
   "execution_count": 12,
   "metadata": {},
   "outputs": [],
   "source": [
    "from rec.coding.rejection_sampling import get_aux_distribution, preprocessing_auxiliary_ratios, get_conditionals\n",
    "from rec.coding.coder import get_auxiliary_coder, get_auxiliary_target, get_conditional_coder, get_conditional_target"
   ]
  },
  {
   "cell_type": "code",
   "execution_count": 31,
   "metadata": {},
   "outputs": [
    {
     "name": "stdout",
     "output_type": "stream",
     "text": [
      "aux\n",
      "t loc diff: 0.0\n",
      "t scale diff: 2.9802322387695312e-08\n",
      "p loc diff: 0.0\n",
      "p scale diff: 0.0\n",
      "\n",
      " cond\n",
      "t loc diff: 0.0\n",
      "t scale diff: 0.0\n",
      "p loc diff: 0.0\n",
      "p scale diff: 0.0\n"
     ]
    }
   ],
   "source": [
    "aux_var = 0.1\n",
    "\n",
    "t1, p1 = get_aux_distribution(t_list[0],\n",
    "                     p_list[0],\n",
    "                     aux_var)\n",
    "\n",
    "t2 = get_auxiliary_target(t_list[0],\n",
    "                          p_list[0],\n",
    "                          aux_var)\n",
    "p2 = get_auxiliary_coder(p_list[0],\n",
    "                         aux_var)\n",
    "\n",
    "print(\"aux\")\n",
    "print(f\"t loc diff: {tf.reduce_max(tf.abs(t1.loc - t2.loc))}\")\n",
    "print(f\"t scale diff: {tf.reduce_max(tf.abs(t1.scale - t2.scale))}\")\n",
    "\n",
    "print(f\"p loc diff: {tf.reduce_max(tf.abs(p1.loc - p2.loc))}\")\n",
    "print(f\"p scale diff: {tf.reduce_max(tf.abs(p1.scale - p2.scale))}\")\n",
    "\n",
    "aux_samp = t2.sample()\n",
    "\n",
    "tc1, pc1 = get_conditionals(t_list[0],\n",
    "                            p_list[0],\n",
    "                            aux_var,\n",
    "                            aux_samp)\n",
    "\n",
    "tc2 = get_conditional_target(t_list[0],\n",
    "                            p_list[0],\n",
    "                            aux_var,\n",
    "                            aux_samp)\n",
    "\n",
    "pc2 = get_conditional_coder(p_list[0],\n",
    "                            aux_var,\n",
    "                            aux_samp)\n",
    "\n",
    "print(\"\\n cond\")\n",
    "print(f\"t loc diff: {tf.reduce_max(tf.abs(tc1.loc - tc2.loc))}\")\n",
    "print(f\"t scale diff: {tf.reduce_max(tf.abs(tc1.scale - tc2.scale))}\")\n",
    "\n",
    "print(f\"p loc diff: {tf.reduce_max(tf.abs(pc1.loc - pc2.loc))}\")\n",
    "print(f\"p scale diff: {tf.reduce_max(tf.abs(pc1.scale - pc2.scale))}\")"
   ]
  },
  {
   "cell_type": "code",
   "execution_count": null,
   "metadata": {},
   "outputs": [],
   "source": [
    "# aux_ratios = np.array([0.68339353, 0.54674925, 0.46513237, 0.4246385,  0.39013079, 0.37761325])\n",
    "aux_ratios = preprocessing_auxiliary_ratios(t_list, p_list, target_kl)"
   ]
  },
  {
   "cell_type": "code",
   "execution_count": 98,
   "metadata": {},
   "outputs": [],
   "source": [
    "mu = 1.\n",
    "nu = 1.\n",
    "\n",
    "gamma = 0.2\n",
    "delta = 0.3\n",
    "\n",
    "m = mu + nu\n",
    "s = gamma + delta\n",
    "\n",
    "x = tfd.Cauchy(loc=mu, scale=gamma)\n",
    "y = tfd.Cauchy(loc=nu, scale=delta)\n",
    "\n",
    "z = tfd.Cauchy(loc=m, scale=s)"
   ]
  },
  {
   "cell_type": "code",
   "execution_count": 74,
   "metadata": {},
   "outputs": [
    {
     "data": {
      "image/png": "[encoded data removed]",
      "text/plain": [
       "<Figure size 432x288 with 1 Axes>"
      ]
     },
     "metadata": {
      "needs_background": "light"
     },
     "output_type": "display_data"
    }
   ],
   "source": [
    "x_plus_y_samp = x.sample(3000) + y.sample(3000)\n",
    "\n",
    "xs=tf.linspace(-100., 100., 10000)\n",
    "\n",
    "plt.hist(x_plus_y_samp, bins=1000, density=True)\n",
    "plt.plot(xs, z.prob(xs))\n",
    "plt.xlim([-100, 100])\n",
    "plt.show()"
   ]
  },
  {
   "cell_type": "code",
   "execution_count": 72,
   "metadata": {},
   "outputs": [
    {
     "name": "stdout",
     "output_type": "stream",
     "text": [
      "tf.Tensor(1.5915495, shape=(), dtype=float32)\n",
      "tf.Tensor(0.4657952, shape=(), dtype=float32)\n"
     ]
    }
   ],
   "source": [
    "x_val = 1.\n",
    "\n",
    "z_samp = z.sample(1000)\n",
    "\n",
    "l = mu + gamma / (gamma + delta) * (z_samp - m)\n",
    "s = np.sqrt(gamma * delta) / (gamma + delta)\n",
    "\n",
    "guess = tfd.Cauchy(loc=l, scale=s.astype(np.float32))\n",
    "\n",
    "print(x.prob(x_val))\n",
    "print(tf.reduce_mean(guess.prob(x_val)))"
   ]
  },
  {
   "cell_type": "code",
   "execution_count": 627,
   "metadata": {},
   "outputs": [
    {
     "name": "stdout",
     "output_type": "stream",
     "text": [
      "A: 5.0\n",
      "B: 0.25\n",
      "C: -3.0\n",
      "\n",
      "[0.00033475 0.00033612 0.0003375  0.00033889 0.00034028 0.00034169\n",
      " 0.0003431  0.00034453 0.00034596 0.0003474 ]\n",
      "[0.00030567 0.00030741 0.00030911 0.0003108  0.00031247 0.00031412\n",
      " 0.00031575 0.00031737 0.00031897 0.00032056]\n"
     ]
    },
    {
     "data": {
      "text/plain": [
       "<tf.Tensor: shape=(), dtype=float32, numpy=0.00011919346>"
      ]
     },
     "execution_count": 627,
     "metadata": {},
     "output_type": "execute_result"
    }
   ],
   "source": [
    "mu = -3\n",
    "nu = 3\n",
    "\n",
    "gamma = 10.\n",
    "delta = 10.\n",
    "\n",
    "m = mu + nu\n",
    "s = gamma + delta\n",
    "\n",
    "x = tfd.Cauchy(loc=mu, scale=gamma)\n",
    "y = tfd.Cauchy(loc=nu, scale=delta)\n",
    "\n",
    "z = tfd.Cauchy(loc=m, scale=s)\n",
    "\n",
    "## ==================\n",
    "\n",
    "x_val = tf.linspace(-100., 100, 1000)\n",
    "\n",
    "z_samp = z.sample(10000)\n",
    "\n",
    "A = gamma * (1 - gamma / s)\n",
    "B = (gamma / s)**2\n",
    "C = mu - B * m\n",
    "\n",
    "print(f\"A: {A}\")\n",
    "print(f\"B: {B}\")\n",
    "print(f\"C: {C}\")\n",
    "print()\n",
    "g = tfd.Cauchy(loc=B * z_samp + C, scale=A)\n",
    "\n",
    "\n",
    "actual_probs = x.prob(x_val).numpy()\n",
    "mc_probs = tf.reduce_mean(g.prob(x_val[:, None]), axis=1).numpy()\n",
    "\n",
    "print(actual_probs[:10])\n",
    "print(mc_probs[:10])\n",
    "tf.reduce_max(tf.abs(actual_probs - mc_probs))"
   ]
  },
  {
   "cell_type": "code",
   "execution_count": 663,
   "metadata": {},
   "outputs": [],
   "source": [
    "def cauchy_kl(x, y):\n",
    "    return  tf.math.log(tf.math.square(x.scale + y.scale) + tf.math.squared_difference(x.loc, y.loc)) \\\n",
    "            - tf.math.log(4.) - tf.math.log(x.scale) - tf.math.log(y.scale) "
   ]
  },
  {
   "cell_type": "code",
   "execution_count": null,
   "metadata": {},
   "outputs": [],
   "source": [
    "tfp.math.log"
   ]
  },
  {
   "cell_type": "code",
   "execution_count": 665,
   "metadata": {},
   "outputs": [
    {
     "data": {
      "text/plain": [
       "<tf.Tensor: shape=(), dtype=float32, numpy=0.12773323>"
      ]
     },
     "execution_count": 665,
     "metadata": {},
     "output_type": "execute_result"
    }
   ],
   "source": [
    "cauchy_kl(x, z)\n"
   ]
  },
  {
   "cell_type": "code",
   "execution_count": 661,
   "metadata": {},
   "outputs": [
    {
     "data": {
      "text/plain": [
       "<tf.Tensor: shape=(), dtype=float32, numpy=0.12994523>"
      ]
     },
     "execution_count": 661,
     "metadata": {},
     "output_type": "execute_result"
    }
   ],
   "source": [
    "z_samp = z.sample(10000)\n",
    "tf.reduce_mean(z.log_prob(z_samp) - x.log_prob(z_samp))"
   ]
  },
  {
   "cell_type": "code",
   "execution_count": 620,
   "metadata": {},
   "outputs": [
    {
     "data": {
      "text/plain": [
       "<tf.Tensor: shape=(), dtype=float32, numpy=5.5267563>"
      ]
     },
     "execution_count": 620,
     "metadata": {},
     "output_type": "execute_result"
    }
   ],
   "source": [
    "z.entropy()"
   ]
  },
  {
   "cell_type": "code",
   "execution_count": 632,
   "metadata": {},
   "outputs": [
    {
     "data": {
      "text/plain": [
       "<tf.Tensor: shape=(), dtype=float32, numpy=1.4189385>"
      ]
     },
     "execution_count": 632,
     "metadata": {},
     "output_type": "execute_result"
    }
   ],
   "source": [
    "t = tfd.Normal(loc=0., scale=1.)\n",
    "t.entropy()"
   ]
  },
  {
   "cell_type": "code",
   "execution_count": 638,
   "metadata": {},
   "outputs": [
    {
     "data": {
      "text/plain": [
       "<tf.Tensor: shape=(), dtype=float32, numpy=-1.4377381>"
      ]
     },
     "execution_count": 638,
     "metadata": {},
     "output_type": "execute_result"
    }
   ],
   "source": [
    "t_samp = t.sample(1000)\n",
    "tf.reduce_mean( t.log_prob(t_samp))"
   ]
  }
 ],
 "metadata": {
  "kernelspec": {
   "display_name": "Python 3",
   "language": "python",
   "name": "python3"
  },
  "language_info": {
   "codemirror_mode": {
    "name": "ipython",
    "version": 3
   },
   "file_extension": ".py",
   "mimetype": "text/x-python",
   "name": "python",
   "nbconvert_exporter": "python",
   "pygments_lexer": "ipython3",
   "version": "3.7.7"
  }
 },
 "nbformat": 4,
 "nbformat_minor": 4
}
